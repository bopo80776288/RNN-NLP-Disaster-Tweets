{
 "cells": [
  {
   "cell_type": "code",
   "execution_count": 2,
   "metadata": {
    "execution": {
     "iopub.execute_input": "2025-06-18T13:59:55.494524Z",
     "iopub.status.busy": "2025-06-18T13:59:55.494260Z",
     "iopub.status.idle": "2025-06-18T13:59:55.499994Z",
     "shell.execute_reply": "2025-06-18T13:59:55.499195Z",
     "shell.execute_reply.started": "2025-06-18T13:59:55.494507Z"
    },
    "trusted": true
   },
   "outputs": [],
   "source": [
    "# basic\n",
    "import numpy as np\n",
    "import pandas as pd\n",
    "import re\n",
    "import warnings\n",
    "import os\n",
    "from tensorflow.keras.layers import Dropout\n",
    "\n",
    "# plotting\n",
    "import matplotlib.pyplot as plt\n",
    "import seaborn as sns\n",
    "\n",
    "# sklearn\n",
    "from sklearn.model_selection import train_test_split\n",
    "from sklearn.metrics import classification_report, confusion_matrix, f1_score\n",
    "\n",
    "# tensorflow\n",
    "import tensorflow as tf\n",
    "from tensorflow.keras.preprocessing.text import Tokenizer\n",
    "from tensorflow.keras.preprocessing.sequence import pad_sequences\n",
    "from tensorflow.keras.models import Model, Sequential\n",
    "from tensorflow.keras.layers import Input, Embedding, SpatialDropout1D, GRU, Dense\n",
    "from tensorflow.keras.callbacks import EarlyStopping, ModelCheckpoint\n",
    "from tensorflow.keras.optimizers import Adam\n",
    "\n",
    "warnings.filterwarnings('ignore')"
   ]
  },
  {
   "cell_type": "markdown",
   "metadata": {},
   "source": [
    "# Introduction - RNN | NLP Disaster Tweets\n",
    "\n",
    "Social media has transformed how information spreads during emergencies. Platforms like Twitter are often among the first places where news of a disaster appears. This makes Twitter a potentially powerful tool for early disaster detection and response coordination.\n",
    "\n",
    "Yet, the same immediacy that makes Twitter useful also presents a challenge: not every tweet containing disaster-related words is actually reporting a real event. Figurative language, exaggeration, and casual phrasing can easily mislead simple keyword-based systems. Distinguishing genuine disaster reports from unrelated noise requires more advanced natural language processing (NLP) techniques.\n",
    "\n",
    "In this project, I tackle this classification problem using recurrent neural networks (RNNs) — deep learning models specifically designed to work with sequential data like text. Two architectures are used: **Long Short-Term Memory (LSTM)** and **Gated Recurrent Units (GRU)**. Both models are trained on a labeled dataset of 10,000 tweets, where each tweet is marked as either a real disaster (1) or not (0).\n",
    "\n",
    "The goal is not only to build a model that performs well, but also to compare LSTM and GRU in terms of their effectiveness for this specific NLP task. Through preprocessing, model training, evaluation, and comparison, this notebook provides a practical look at how RNNs can be used to handle noisy, real-world text data."
   ]
  },
  {
   "cell_type": "markdown",
   "metadata": {},
   "source": [
    "# Part 1 - Exploratory Data Analysis (EDA) — Inspect, Visualize and Clean the Data\n"
   ]
  },
  {
   "cell_type": "markdown",
   "metadata": {},
   "source": [
    "The EDA process involved examining the dataset’s structure, identifying missing values, and analyzing the distribution of target labels to assess class balance. Tweet lengths were visualized to inform preprocessing decisions, and sample texts from both classes were reviewed to understand content patterns. "
   ]
  },
  {
   "cell_type": "code",
   "execution_count": 3,
   "metadata": {
    "execution": {
     "iopub.execute_input": "2025-06-18T13:59:55.501252Z",
     "iopub.status.busy": "2025-06-18T13:59:55.500863Z",
     "iopub.status.idle": "2025-06-18T13:59:56.169520Z",
     "shell.execute_reply": "2025-06-18T13:59:56.168725Z",
     "shell.execute_reply.started": "2025-06-18T13:59:55.501227Z"
    },
    "trusted": true
   },
   "outputs": [
    {
     "name": "stdout",
     "output_type": "stream",
     "text": [
      "Shape of data: (7613, 5)\n"
     ]
    },
    {
     "data": {
      "text/html": [
       "<div>\n",
       "<style scoped>\n",
       "    .dataframe tbody tr th:only-of-type {\n",
       "        vertical-align: middle;\n",
       "    }\n",
       "\n",
       "    .dataframe tbody tr th {\n",
       "        vertical-align: top;\n",
       "    }\n",
       "\n",
       "    .dataframe thead th {\n",
       "        text-align: right;\n",
       "    }\n",
       "</style>\n",
       "<table border=\"1\" class=\"dataframe\">\n",
       "  <thead>\n",
       "    <tr style=\"text-align: right;\">\n",
       "      <th></th>\n",
       "      <th>id</th>\n",
       "      <th>keyword</th>\n",
       "      <th>location</th>\n",
       "      <th>text</th>\n",
       "      <th>target</th>\n",
       "    </tr>\n",
       "  </thead>\n",
       "  <tbody>\n",
       "    <tr>\n",
       "      <th>0</th>\n",
       "      <td>1</td>\n",
       "      <td>NaN</td>\n",
       "      <td>NaN</td>\n",
       "      <td>Our Deeds are the Reason of this #earthquake M...</td>\n",
       "      <td>1</td>\n",
       "    </tr>\n",
       "    <tr>\n",
       "      <th>1</th>\n",
       "      <td>4</td>\n",
       "      <td>NaN</td>\n",
       "      <td>NaN</td>\n",
       "      <td>Forest fire near La Ronge Sask. Canada</td>\n",
       "      <td>1</td>\n",
       "    </tr>\n",
       "    <tr>\n",
       "      <th>2</th>\n",
       "      <td>5</td>\n",
       "      <td>NaN</td>\n",
       "      <td>NaN</td>\n",
       "      <td>All residents asked to 'shelter in place' are ...</td>\n",
       "      <td>1</td>\n",
       "    </tr>\n",
       "    <tr>\n",
       "      <th>3</th>\n",
       "      <td>6</td>\n",
       "      <td>NaN</td>\n",
       "      <td>NaN</td>\n",
       "      <td>13,000 people receive #wildfires evacuation or...</td>\n",
       "      <td>1</td>\n",
       "    </tr>\n",
       "    <tr>\n",
       "      <th>4</th>\n",
       "      <td>7</td>\n",
       "      <td>NaN</td>\n",
       "      <td>NaN</td>\n",
       "      <td>Just got sent this photo from Ruby #Alaska as ...</td>\n",
       "      <td>1</td>\n",
       "    </tr>\n",
       "  </tbody>\n",
       "</table>\n",
       "</div>"
      ],
      "text/plain": [
       "   id keyword location                                               text  \\\n",
       "0   1     NaN      NaN  Our Deeds are the Reason of this #earthquake M...   \n",
       "1   4     NaN      NaN             Forest fire near La Ronge Sask. Canada   \n",
       "2   5     NaN      NaN  All residents asked to 'shelter in place' are ...   \n",
       "3   6     NaN      NaN  13,000 people receive #wildfires evacuation or...   \n",
       "4   7     NaN      NaN  Just got sent this photo from Ruby #Alaska as ...   \n",
       "\n",
       "   target  \n",
       "0       1  \n",
       "1       1  \n",
       "2       1  \n",
       "3       1  \n",
       "4       1  "
      ]
     },
     "metadata": {},
     "output_type": "display_data"
    },
    {
     "name": "stdout",
     "output_type": "stream",
     "text": [
      "\n",
      " Data Info:\n",
      "<class 'pandas.core.frame.DataFrame'>\n",
      "RangeIndex: 7613 entries, 0 to 7612\n",
      "Data columns (total 5 columns):\n",
      " #   Column    Non-Null Count  Dtype \n",
      "---  ------    --------------  ----- \n",
      " 0   id        7613 non-null   int64 \n",
      " 1   keyword   7552 non-null   object\n",
      " 2   location  5080 non-null   object\n",
      " 3   text      7613 non-null   object\n",
      " 4   target    7613 non-null   int64 \n",
      "dtypes: int64(2), object(3)\n",
      "memory usage: 297.5+ KB\n",
      "\n",
      " Missing values:\n",
      "id             0\n",
      "keyword       61\n",
      "location    2533\n",
      "text           0\n",
      "target         0\n",
      "dtype: int64\n",
      "\n",
      " Target value counts:\n",
      "target\n",
      "0    4342\n",
      "1    3271\n",
      "Name: count, dtype: int64\n"
     ]
    },
    {
     "data": {
      "image/png": "[encoded data removed]",
      "text/plain": [
       "<Figure size 640x480 with 1 Axes>"
      ]
     },
     "metadata": {},
     "output_type": "display_data"
    },
    {
     "name": "stdout",
     "output_type": "stream",
     "text": [
      "\n",
      " Sample Non-Disaster Tweet:\n",
      " Hollywood movie about trapped miners released in Chile http://t.co/xe0EE1Fzfh\n",
      "\n",
      " Sample Disaster Tweet:\n",
      " @Michael5SOS California is in a drought. what are you gonna do about this issue? if you want to be president this attitude won't work with m\n"
     ]
    },
    {
     "data": {
      "image/png": "[encoded data removed]",
      "text/plain": [
       "<Figure size 800x400 with 1 Axes>"
      ]
     },
     "metadata": {},
     "output_type": "display_data"
    },
    {
     "name": "stdout",
     "output_type": "stream",
     "text": [
      "\n",
      " Tweet length stats:\n",
      "count    7613.000000\n",
      "mean      101.037436\n",
      "std        33.781325\n",
      "min         7.000000\n",
      "25%        78.000000\n",
      "50%       107.000000\n",
      "75%       133.000000\n",
      "max       157.000000\n",
      "Name: text_len, dtype: float64\n"
     ]
    }
   ],
   "source": [
    "# Load dataset\n",
    "df = pd.read_csv('/kaggle/input/nlp-getting-started/train.csv')\n",
    "\n",
    "# Basic preview\n",
    "print(\"Shape of data:\", df.shape)\n",
    "display(df.head())\n",
    "\n",
    "# Structure and Missing Values\n",
    "print(\"\\n Data Info:\")\n",
    "df.info()\n",
    "\n",
    "print(\"\\n Missing values:\")\n",
    "print(df.isnull().sum())\n",
    "\n",
    "# Target Distribution\n",
    "print(\"\\n Target value counts:\")\n",
    "print(df['target'].value_counts())\n",
    "\n",
    "sns.countplot(data=df, x='target')\n",
    "plt.title('Target Distribution (0 = Not Disaster, 1 = Disaster)')\n",
    "plt.xticks([0, 1], ['Not Disaster', 'Disaster'])\n",
    "plt.show()\n",
    "\n",
    "# Look at Examples\n",
    "print(\"\\n Sample Non-Disaster Tweet:\\n\", df[df['target'] == 0]['text'].sample(1).values[0])\n",
    "print(\"\\n Sample Disaster Tweet:\\n\", df[df['target'] == 1]['text'].sample(1).values[0])\n",
    "\n",
    "# Tweet Length Analysis\n",
    "df['text_len'] = df['text'].apply(len)\n",
    "\n",
    "plt.figure(figsize=(8, 4))\n",
    "sns.histplot(data=df, x='text_len', hue='target', bins=30, kde=True)\n",
    "plt.title(\"Tweet Length Distribution by Target\")\n",
    "plt.xlabel(\"Tweet Length\")\n",
    "plt.ylabel(\"Frequency\")\n",
    "plt.show()\n",
    "\n",
    "print(\"\\n Tweet length stats:\")\n",
    "print(df['text_len'].describe())"
   ]
  },
  {
   "cell_type": "markdown",
   "metadata": {},
   "source": [
    "# Part 2 - Data Preprocessing & Plan of Analysis\n"
   ]
  },
  {
   "cell_type": "code",
   "execution_count": 4,
   "metadata": {
    "execution": {
     "iopub.execute_input": "2025-06-18T13:59:56.172005Z",
     "iopub.status.busy": "2025-06-18T13:59:56.171764Z",
     "iopub.status.idle": "2025-06-18T13:59:56.176039Z",
     "shell.execute_reply": "2025-06-18T13:59:56.175320Z",
     "shell.execute_reply.started": "2025-06-18T13:59:56.171987Z"
    },
    "trusted": true
   },
   "outputs": [],
   "source": [
    "import re\n",
    "import string\n",
    "\n",
    "from tensorflow.keras import callbacks\n",
    "from tensorflow.keras.preprocessing.text import Tokenizer\n",
    "from tensorflow.keras.preprocessing.sequence import pad_sequences\n",
    "from sklearn.model_selection import train_test_split"
   ]
  },
  {
   "cell_type": "markdown",
   "metadata": {},
   "source": [
    "**Clean the text**\n",
    "\n",
    "We clean text to remove noise (URLs, @mentions, punctuation, etc.) and standardize format (like lowercasing). This improves tokenization quality. Clean text helps prevent unnecessary tokens like https, !!!, or @user from entering the model. This reduces noise and improves learning."
   ]
  },
  {
   "cell_type": "code",
   "execution_count": 5,
   "metadata": {
    "execution": {
     "iopub.execute_input": "2025-06-18T13:59:56.177094Z",
     "iopub.status.busy": "2025-06-18T13:59:56.176890Z",
     "iopub.status.idle": "2025-06-18T13:59:56.271744Z",
     "shell.execute_reply": "2025-06-18T13:59:56.271081Z",
     "shell.execute_reply.started": "2025-06-18T13:59:56.177077Z"
    },
    "trusted": true
   },
   "outputs": [
    {
     "name": "stdout",
     "output_type": "stream",
     "text": [
      "\n",
      " Sample cleaned tweets:\n"
     ]
    },
    {
     "data": {
      "text/html": [
       "<div>\n",
       "<style scoped>\n",
       "    .dataframe tbody tr th:only-of-type {\n",
       "        vertical-align: middle;\n",
       "    }\n",
       "\n",
       "    .dataframe tbody tr th {\n",
       "        vertical-align: top;\n",
       "    }\n",
       "\n",
       "    .dataframe thead th {\n",
       "        text-align: right;\n",
       "    }\n",
       "</style>\n",
       "<table border=\"1\" class=\"dataframe\">\n",
       "  <thead>\n",
       "    <tr style=\"text-align: right;\">\n",
       "      <th></th>\n",
       "      <th>text</th>\n",
       "      <th>clean_text</th>\n",
       "    </tr>\n",
       "  </thead>\n",
       "  <tbody>\n",
       "    <tr>\n",
       "      <th>0</th>\n",
       "      <td>Our Deeds are the Reason of this #earthquake M...</td>\n",
       "      <td>our deeds are the reason of this may allah for...</td>\n",
       "    </tr>\n",
       "    <tr>\n",
       "      <th>1</th>\n",
       "      <td>Forest fire near La Ronge Sask. Canada</td>\n",
       "      <td>forest fire near la ronge sask canada</td>\n",
       "    </tr>\n",
       "    <tr>\n",
       "      <th>2</th>\n",
       "      <td>All residents asked to 'shelter in place' are ...</td>\n",
       "      <td>all residents asked to shelter in place are be...</td>\n",
       "    </tr>\n",
       "    <tr>\n",
       "      <th>3</th>\n",
       "      <td>13,000 people receive #wildfires evacuation or...</td>\n",
       "      <td>people receive evacuation orders in california</td>\n",
       "    </tr>\n",
       "    <tr>\n",
       "      <th>4</th>\n",
       "      <td>Just got sent this photo from Ruby #Alaska as ...</td>\n",
       "      <td>just got sent this photo from ruby as smoke fr...</td>\n",
       "    </tr>\n",
       "  </tbody>\n",
       "</table>\n",
       "</div>"
      ],
      "text/plain": [
       "                                                text  \\\n",
       "0  Our Deeds are the Reason of this #earthquake M...   \n",
       "1             Forest fire near La Ronge Sask. Canada   \n",
       "2  All residents asked to 'shelter in place' are ...   \n",
       "3  13,000 people receive #wildfires evacuation or...   \n",
       "4  Just got sent this photo from Ruby #Alaska as ...   \n",
       "\n",
       "                                          clean_text  \n",
       "0  our deeds are the reason of this may allah for...  \n",
       "1              forest fire near la ronge sask canada  \n",
       "2  all residents asked to shelter in place are be...  \n",
       "3     people receive evacuation orders in california  \n",
       "4  just got sent this photo from ruby as smoke fr...  "
      ]
     },
     "metadata": {},
     "output_type": "display_data"
    }
   ],
   "source": [
    "# Text Cleaning \n",
    "def clean(text):\n",
    "    text = text.lower()\n",
    "    text = re.sub(r'http\\S+', '', text)           # remove URLs\n",
    "    text = re.sub(r'@\\w+', '', text)              # remove mentions\n",
    "    text = re.sub(r'#\\w+', '', text)              # remove hashtags\n",
    "    text = re.sub(r'[^a-zA-Z\\s]', '', text)       # remove punctuation/numbers\n",
    "    text = re.sub(r'\\s+', ' ', text).strip()      # normalize whitespace\n",
    "    return text\n",
    "\n",
    "df['clean_text'] = df['text'].apply(clean)\n",
    "\n",
    "print(\"\\n Sample cleaned tweets:\")\n",
    "display(df[['text', 'clean_text']].head())"
   ]
  },
  {
   "cell_type": "markdown",
   "metadata": {},
   "source": [
    "**Tokenize the text**\n",
    "\n",
    "Now we turn text into a sequence of integers (e.g. \"fire in the sky\" → [5, 12, 2, 8]). "
   ]
  },
  {
   "cell_type": "code",
   "execution_count": 6,
   "metadata": {
    "execution": {
     "iopub.execute_input": "2025-06-18T13:59:56.272832Z",
     "iopub.status.busy": "2025-06-18T13:59:56.272590Z",
     "iopub.status.idle": "2025-06-18T13:59:56.379873Z",
     "shell.execute_reply": "2025-06-18T13:59:56.379339Z",
     "shell.execute_reply.started": "2025-06-18T13:59:56.272809Z"
    },
    "trusted": true
   },
   "outputs": [
    {
     "name": "stdout",
     "output_type": "stream",
     "text": [
      "Number of unique tokens: 13532\n"
     ]
    }
   ],
   "source": [
    "MAX_VOCAB_SIZE = 10000  # how many unique words to keep\n",
    "\n",
    "tokenizer = Tokenizer(num_words=MAX_VOCAB_SIZE, oov_token=\"<OOV>\")\n",
    "tokenizer.fit_on_texts(df[\"clean_text\"])\n",
    "\n",
    "word_index = tokenizer.word_index\n",
    "print(f\"Number of unique tokens: {len(word_index)}\")"
   ]
  },
  {
   "cell_type": "markdown",
   "metadata": {},
   "source": [
    "**Convert texts to sequences and pad them**\n",
    "\n",
    "We need sequences of equal length, so we pad shorter ones with zeros."
   ]
  },
  {
   "cell_type": "code",
   "execution_count": 7,
   "metadata": {
    "execution": {
     "iopub.execute_input": "2025-06-18T13:59:56.380660Z",
     "iopub.status.busy": "2025-06-18T13:59:56.380477Z",
     "iopub.status.idle": "2025-06-18T13:59:56.469690Z",
     "shell.execute_reply": "2025-06-18T13:59:56.469158Z",
     "shell.execute_reply.started": "2025-06-18T13:59:56.380644Z"
    },
    "trusted": true
   },
   "outputs": [
    {
     "name": "stdout",
     "output_type": "stream",
     "text": [
      "Max length: 31, Avg length: 12.98\n"
     ]
    }
   ],
   "source": [
    "# Convert to sequences\n",
    "sequences = tokenizer.texts_to_sequences(df[\"clean_text\"])\n",
    "\n",
    "# Analyze sequence length (optional)\n",
    "sequence_lengths = [len(seq) for seq in sequences]\n",
    "print(f\"Max length: {np.max(sequence_lengths)}, Avg length: {np.mean(sequence_lengths):.2f}\")\n",
    "\n",
    "# Pad sequences\n",
    "MAX_SEQ_LENGTH = 30  # reasonable for tweets\n",
    "X = pad_sequences(sequences, maxlen=MAX_SEQ_LENGTH, padding='post', truncating='post')"
   ]
  },
  {
   "cell_type": "markdown",
   "metadata": {},
   "source": [
    "**Prepare labels**\n",
    "\n",
    "In this case the target (df['target']) is already 0 or 1, no extra work."
   ]
  },
  {
   "cell_type": "code",
   "execution_count": 8,
   "metadata": {
    "execution": {
     "iopub.execute_input": "2025-06-18T13:59:56.470604Z",
     "iopub.status.busy": "2025-06-18T13:59:56.470318Z",
     "iopub.status.idle": "2025-06-18T13:59:56.473964Z",
     "shell.execute_reply": "2025-06-18T13:59:56.473319Z",
     "shell.execute_reply.started": "2025-06-18T13:59:56.470586Z"
    },
    "trusted": true
   },
   "outputs": [],
   "source": [
    "y = df['target'].values"
   ]
  },
  {
   "cell_type": "markdown",
   "metadata": {},
   "source": [
    "**Train-test split**\n",
    "\n",
    "Split into training and validation data. A validation set allows you to monitor model generalization (performance on unseen data)."
   ]
  },
  {
   "cell_type": "code",
   "execution_count": 9,
   "metadata": {
    "execution": {
     "iopub.execute_input": "2025-06-18T13:59:56.474903Z",
     "iopub.status.busy": "2025-06-18T13:59:56.474720Z",
     "iopub.status.idle": "2025-06-18T13:59:56.492486Z",
     "shell.execute_reply": "2025-06-18T13:59:56.491753Z",
     "shell.execute_reply.started": "2025-06-18T13:59:56.474886Z"
    },
    "trusted": true
   },
   "outputs": [
    {
     "name": "stdout",
     "output_type": "stream",
     "text": [
      "Training samples: 6090\n",
      "Validation samples: 1523\n"
     ]
    }
   ],
   "source": [
    "X_train, X_val, y_train, y_val = train_test_split(\n",
    "    X, y, test_size=0.2, random_state=42, stratify=y\n",
    ")\n",
    "\n",
    "print(f\"Training samples: {X_train.shape[0]}\")\n",
    "print(f\"Validation samples: {X_val.shape[0]}\")"
   ]
  },
  {
   "cell_type": "markdown",
   "metadata": {},
   "source": [
    "# Part 3 - Model Architecture\n"
   ]
  },
  {
   "cell_type": "markdown",
   "metadata": {},
   "source": [
    "# Version 1: Baseline Models"
   ]
  },
  {
   "cell_type": "markdown",
   "metadata": {},
   "source": [
    "**Version 1: LSTM Model**\n",
    "\n",
    "Long Short-Term Memory (LSTM) is a type of recurrent neural network (RNN) designed to better capture long-term dependencies in sequential data. It achieves this through a complex architecture involving input, forget, and output gates, which regulate the flow of information over time. This makes LSTMs particularly effective at handling tasks where the context from earlier in the sequence significantly influences the output. In this project, an LSTM model is trained to classify tweets based on whether they describe a real disaster, leveraging its ability to understand the contextual meaning of text over time."
   ]
  },
  {
   "cell_type": "markdown",
   "metadata": {},
   "source": [
    "**Build the LSTM model**"
   ]
  },
  {
   "cell_type": "code",
   "execution_count": 10,
   "metadata": {
    "execution": {
     "iopub.execute_input": "2025-06-18T13:59:56.493806Z",
     "iopub.status.busy": "2025-06-18T13:59:56.493556Z",
     "iopub.status.idle": "2025-06-18T13:59:56.503199Z",
     "shell.execute_reply": "2025-06-18T13:59:56.502505Z",
     "shell.execute_reply.started": "2025-06-18T13:59:56.493783Z"
    },
    "trusted": true
   },
   "outputs": [],
   "source": [
    "from tensorflow.keras.models import Sequential\n",
    "from tensorflow.keras.layers import Embedding, LSTM, Dense\n",
    "\n",
    "def build_lstm_model(vocab_size, embedding_dim, input_length):\n",
    "    model = Sequential(name=\"lstm_model\")\n",
    "    model.add(Embedding(input_dim=vocab_size, output_dim=embedding_dim, input_shape=(input_length,)))\n",
    "    model.add(LSTM(64))  # 64 units is common for a small to medium LSTM\n",
    "    model.add(Dense(1, activation='sigmoid'))  # Binary classification\n",
    "    return model"
   ]
  },
  {
   "cell_type": "code",
   "execution_count": 11,
   "metadata": {
    "execution": {
     "iopub.execute_input": "2025-06-18T13:59:56.504041Z",
     "iopub.status.busy": "2025-06-18T13:59:56.503829Z",
     "iopub.status.idle": "2025-06-18T13:59:58.934909Z",
     "shell.execute_reply": "2025-06-18T13:59:58.934187Z",
     "shell.execute_reply.started": "2025-06-18T13:59:56.504026Z"
    },
    "trusted": true
   },
   "outputs": [
    {
     "name": "stderr",
     "output_type": "stream",
     "text": [
      "I0000 00:00:1750255197.602088      35 gpu_device.cc:2022] Created device /job:localhost/replica:0/task:0/device:GPU:0 with 15513 MB memory:  -> device: 0, name: Tesla P100-PCIE-16GB, pci bus id: 0000:00:04.0, compute capability: 6.0\n"
     ]
    },
    {
     "data": {
      "text/html": [
       "<pre style=\"white-space:pre;overflow-x:auto;line-height:normal;font-family:Menlo,'DejaVu Sans Mono',consolas,'Courier New',monospace\"><span style=\"font-weight: bold\">Model: \"lstm_model\"</span>\n",
       "</pre>\n"
      ],
      "text/plain": [
       "\u001b[1mModel: \"lstm_model\"\u001b[0m\n"
      ]
     },
     "metadata": {},
     "output_type": "display_data"
    },
    {
     "data": {
      "text/html": [
       "<pre style=\"white-space:pre;overflow-x:auto;line-height:normal;font-family:Menlo,'DejaVu Sans Mono',consolas,'Courier New',monospace\">┏━━━━━━━━━━━━━━━━━━━━━━━━━━━━━━━━━━━━━━┳━━━━━━━━━━━━━━━━━━━━━━━━━━━━━┳━━━━━━━━━━━━━━━━━┓\n",
       "┃<span style=\"font-weight: bold\"> Layer (type)                         </span>┃<span style=\"font-weight: bold\"> Output Shape                </span>┃<span style=\"font-weight: bold\">         Param # </span>┃\n",
       "┡━━━━━━━━━━━━━━━━━━━━━━━━━━━━━━━━━━━━━━╇━━━━━━━━━━━━━━━━━━━━━━━━━━━━━╇━━━━━━━━━━━━━━━━━┩\n",
       "│ embedding (<span style=\"color: #0087ff; text-decoration-color: #0087ff\">Embedding</span>)                │ (<span style=\"color: #00d7ff; text-decoration-color: #00d7ff\">None</span>, <span style=\"color: #00af00; text-decoration-color: #00af00\">30</span>, <span style=\"color: #00af00; text-decoration-color: #00af00\">64</span>)              │         <span style=\"color: #00af00; text-decoration-color: #00af00\">640,000</span> │\n",
       "├──────────────────────────────────────┼─────────────────────────────┼─────────────────┤\n",
       "│ lstm (<span style=\"color: #0087ff; text-decoration-color: #0087ff\">LSTM</span>)                          │ (<span style=\"color: #00d7ff; text-decoration-color: #00d7ff\">None</span>, <span style=\"color: #00af00; text-decoration-color: #00af00\">64</span>)                  │          <span style=\"color: #00af00; text-decoration-color: #00af00\">33,024</span> │\n",
       "├──────────────────────────────────────┼─────────────────────────────┼─────────────────┤\n",
       "│ dense (<span style=\"color: #0087ff; text-decoration-color: #0087ff\">Dense</span>)                        │ (<span style=\"color: #00d7ff; text-decoration-color: #00d7ff\">None</span>, <span style=\"color: #00af00; text-decoration-color: #00af00\">1</span>)                   │              <span style=\"color: #00af00; text-decoration-color: #00af00\">65</span> │\n",
       "└──────────────────────────────────────┴─────────────────────────────┴─────────────────┘\n",
       "</pre>\n"
      ],
      "text/plain": [
       "┏━━━━━━━━━━━━━━━━━━━━━━━━━━━━━━━━━━━━━━┳━━━━━━━━━━━━━━━━━━━━━━━━━━━━━┳━━━━━━━━━━━━━━━━━┓\n",
       "┃\u001b[1m \u001b[0m\u001b[1mLayer (type)                        \u001b[0m\u001b[1m \u001b[0m┃\u001b[1m \u001b[0m\u001b[1mOutput Shape               \u001b[0m\u001b[1m \u001b[0m┃\u001b[1m \u001b[0m\u001b[1m        Param #\u001b[0m\u001b[1m \u001b[0m┃\n",
       "┡━━━━━━━━━━━━━━━━━━━━━━━━━━━━━━━━━━━━━━╇━━━━━━━━━━━━━━━━━━━━━━━━━━━━━╇━━━━━━━━━━━━━━━━━┩\n",
       "│ embedding (\u001b[38;5;33mEmbedding\u001b[0m)                │ (\u001b[38;5;45mNone\u001b[0m, \u001b[38;5;34m30\u001b[0m, \u001b[38;5;34m64\u001b[0m)              │         \u001b[38;5;34m640,000\u001b[0m │\n",
       "├──────────────────────────────────────┼─────────────────────────────┼─────────────────┤\n",
       "│ lstm (\u001b[38;5;33mLSTM\u001b[0m)                          │ (\u001b[38;5;45mNone\u001b[0m, \u001b[38;5;34m64\u001b[0m)                  │          \u001b[38;5;34m33,024\u001b[0m │\n",
       "├──────────────────────────────────────┼─────────────────────────────┼─────────────────┤\n",
       "│ dense (\u001b[38;5;33mDense\u001b[0m)                        │ (\u001b[38;5;45mNone\u001b[0m, \u001b[38;5;34m1\u001b[0m)                   │              \u001b[38;5;34m65\u001b[0m │\n",
       "└──────────────────────────────────────┴─────────────────────────────┴─────────────────┘\n"
      ]
     },
     "metadata": {},
     "output_type": "display_data"
    },
    {
     "data": {
      "text/html": [
       "<pre style=\"white-space:pre;overflow-x:auto;line-height:normal;font-family:Menlo,'DejaVu Sans Mono',consolas,'Courier New',monospace\"><span style=\"font-weight: bold\"> Total params: </span><span style=\"color: #00af00; text-decoration-color: #00af00\">673,089</span> (2.57 MB)\n",
       "</pre>\n"
      ],
      "text/plain": [
       "\u001b[1m Total params: \u001b[0m\u001b[38;5;34m673,089\u001b[0m (2.57 MB)\n"
      ]
     },
     "metadata": {},
     "output_type": "display_data"
    },
    {
     "data": {
      "text/html": [
       "<pre style=\"white-space:pre;overflow-x:auto;line-height:normal;font-family:Menlo,'DejaVu Sans Mono',consolas,'Courier New',monospace\"><span style=\"font-weight: bold\"> Trainable params: </span><span style=\"color: #00af00; text-decoration-color: #00af00\">673,089</span> (2.57 MB)\n",
       "</pre>\n"
      ],
      "text/plain": [
       "\u001b[1m Trainable params: \u001b[0m\u001b[38;5;34m673,089\u001b[0m (2.57 MB)\n"
      ]
     },
     "metadata": {},
     "output_type": "display_data"
    },
    {
     "data": {
      "text/html": [
       "<pre style=\"white-space:pre;overflow-x:auto;line-height:normal;font-family:Menlo,'DejaVu Sans Mono',consolas,'Courier New',monospace\"><span style=\"font-weight: bold\"> Non-trainable params: </span><span style=\"color: #00af00; text-decoration-color: #00af00\">0</span> (0.00 B)\n",
       "</pre>\n"
      ],
      "text/plain": [
       "\u001b[1m Non-trainable params: \u001b[0m\u001b[38;5;34m0\u001b[0m (0.00 B)\n"
      ]
     },
     "metadata": {},
     "output_type": "display_data"
    }
   ],
   "source": [
    "# Define key parameters\n",
    "embedding_dim = 64\n",
    "vocab_size = MAX_VOCAB_SIZE\n",
    "input_length = MAX_SEQ_LENGTH\n",
    "\n",
    "# Build and view summary\n",
    "lstm_model = build_lstm_model(vocab_size, embedding_dim, input_length)\n",
    "lstm_model.summary()"
   ]
  },
  {
   "cell_type": "markdown",
   "metadata": {},
   "source": [
    "**Compile the LSTM model**"
   ]
  },
  {
   "cell_type": "code",
   "execution_count": 12,
   "metadata": {
    "execution": {
     "iopub.execute_input": "2025-06-18T13:59:58.935957Z",
     "iopub.status.busy": "2025-06-18T13:59:58.935726Z",
     "iopub.status.idle": "2025-06-18T13:59:58.947056Z",
     "shell.execute_reply": "2025-06-18T13:59:58.946519Z",
     "shell.execute_reply.started": "2025-06-18T13:59:58.935940Z"
    },
    "trusted": true
   },
   "outputs": [],
   "source": [
    "lstm_model.compile(\n",
    "    loss='binary_crossentropy',\n",
    "    optimizer='adam',\n",
    "    metrics=['accuracy']\n",
    ")"
   ]
  },
  {
   "cell_type": "code",
   "execution_count": 13,
   "metadata": {
    "execution": {
     "iopub.execute_input": "2025-06-18T13:59:58.947881Z",
     "iopub.status.busy": "2025-06-18T13:59:58.947682Z",
     "iopub.status.idle": "2025-06-18T13:59:58.952722Z",
     "shell.execute_reply": "2025-06-18T13:59:58.952159Z",
     "shell.execute_reply.started": "2025-06-18T13:59:58.947861Z"
    },
    "trusted": true
   },
   "outputs": [],
   "source": [
    "lstm_callbacks_list = [\n",
    "    callbacks.EarlyStopping(monitor='val_loss', patience=3, restore_best_weights=True),\n",
    "    callbacks.ReduceLROnPlateau(monitor='val_loss', factor=0.2, patience=3, min_lr=1e-6, verbose=1),\n",
    "    callbacks.ModelCheckpoint(filepath='best_lstm_model.keras', monitor='val_accuracy', save_best_only=True, verbose=1)\n",
    "]"
   ]
  },
  {
   "cell_type": "code",
   "execution_count": 14,
   "metadata": {
    "execution": {
     "iopub.execute_input": "2025-06-18T13:59:58.953663Z",
     "iopub.status.busy": "2025-06-18T13:59:58.953442Z",
     "iopub.status.idle": "2025-06-18T14:00:08.164756Z",
     "shell.execute_reply": "2025-06-18T14:00:08.164023Z",
     "shell.execute_reply.started": "2025-06-18T13:59:58.953638Z"
    },
    "trusted": true
   },
   "outputs": [
    {
     "name": "stdout",
     "output_type": "stream",
     "text": [
      "Epoch 1/10\n"
     ]
    },
    {
     "name": "stderr",
     "output_type": "stream",
     "text": [
      "I0000 00:00:1750255202.193175      95 cuda_dnn.cc:529] Loaded cuDNN version 90300\n"
     ]
    },
    {
     "name": "stdout",
     "output_type": "stream",
     "text": [
      "\u001b[1m191/191\u001b[0m \u001b[32m━━━━━━━━━━━━━━━━━━━━\u001b[0m\u001b[37m\u001b[0m \u001b[1m0s\u001b[0m 5ms/step - accuracy: 0.6068 - loss: 0.6536\n",
      "Epoch 1: val_accuracy improved from -inf to 0.78529, saving model to best_lstm_model.keras\n",
      "\u001b[1m191/191\u001b[0m \u001b[32m━━━━━━━━━━━━━━━━━━━━\u001b[0m\u001b[37m\u001b[0m \u001b[1m6s\u001b[0m 8ms/step - accuracy: 0.6071 - loss: 0.6533 - val_accuracy: 0.7853 - val_loss: 0.4695 - learning_rate: 0.0010\n",
      "Epoch 2/10\n",
      "\u001b[1m184/191\u001b[0m \u001b[32m━━━━━━━━━━━━━━━━━━━\u001b[0m\u001b[37m━\u001b[0m \u001b[1m0s\u001b[0m 5ms/step - accuracy: 0.8514 - loss: 0.3825\n",
      "Epoch 2: val_accuracy improved from 0.78529 to 0.78923, saving model to best_lstm_model.keras\n",
      "\u001b[1m191/191\u001b[0m \u001b[32m━━━━━━━━━━━━━━━━━━━━\u001b[0m\u001b[37m\u001b[0m \u001b[1m1s\u001b[0m 6ms/step - accuracy: 0.8513 - loss: 0.3822 - val_accuracy: 0.7892 - val_loss: 0.4762 - learning_rate: 0.0010\n",
      "Epoch 3/10\n",
      "\u001b[1m187/191\u001b[0m \u001b[32m━━━━━━━━━━━━━━━━━━━\u001b[0m\u001b[37m━\u001b[0m \u001b[1m0s\u001b[0m 5ms/step - accuracy: 0.9085 - loss: 0.2545\n",
      "Epoch 3: val_accuracy improved from 0.78923 to 0.79974, saving model to best_lstm_model.keras\n",
      "\u001b[1m191/191\u001b[0m \u001b[32m━━━━━━━━━━━━━━━━━━━━\u001b[0m\u001b[37m\u001b[0m \u001b[1m1s\u001b[0m 6ms/step - accuracy: 0.9082 - loss: 0.2551 - val_accuracy: 0.7997 - val_loss: 0.4715 - learning_rate: 0.0010\n",
      "Epoch 4/10\n",
      "\u001b[1m185/191\u001b[0m \u001b[32m━━━━━━━━━━━━━━━━━━━\u001b[0m\u001b[37m━\u001b[0m \u001b[1m0s\u001b[0m 5ms/step - accuracy: 0.9340 - loss: 0.1917\n",
      "Epoch 4: ReduceLROnPlateau reducing learning rate to 0.00020000000949949026.\n",
      "\n",
      "Epoch 4: val_accuracy did not improve from 0.79974\n",
      "\u001b[1m191/191\u001b[0m \u001b[32m━━━━━━━━━━━━━━━━━━━━\u001b[0m\u001b[37m\u001b[0m \u001b[1m1s\u001b[0m 6ms/step - accuracy: 0.9337 - loss: 0.1923 - val_accuracy: 0.7774 - val_loss: 0.5489 - learning_rate: 0.0010\n"
     ]
    }
   ],
   "source": [
    "history_lstm = lstm_model.fit(\n",
    "    X_train, y_train,\n",
    "    validation_data=(X_val, y_val),\n",
    "    epochs=10,\n",
    "    batch_size=32,\n",
    "    callbacks=lstm_callbacks_list\n",
    ")"
   ]
  },
  {
   "cell_type": "markdown",
   "metadata": {},
   "source": [
    "**Graph the LSTM model**"
   ]
  },
  {
   "cell_type": "code",
   "execution_count": 15,
   "metadata": {
    "execution": {
     "iopub.execute_input": "2025-06-18T14:00:08.165783Z",
     "iopub.status.busy": "2025-06-18T14:00:08.165599Z",
     "iopub.status.idle": "2025-06-18T14:00:08.481744Z",
     "shell.execute_reply": "2025-06-18T14:00:08.481020Z",
     "shell.execute_reply.started": "2025-06-18T14:00:08.165769Z"
    },
    "trusted": true
   },
   "outputs": [
    {
     "data": {
      "image/png": "[encoded data removed]",
      "text/plain": [
       "<Figure size 1000x500 with 2 Axes>"
      ]
     },
     "metadata": {},
     "output_type": "display_data"
    }
   ],
   "source": [
    "import matplotlib.pyplot as plt\n",
    "\n",
    "# Accuracy plot\n",
    "plt.figure(figsize=(10, 5))\n",
    "\n",
    "plt.subplot(1, 2, 1)\n",
    "plt.plot(history_lstm.history['accuracy'], label='Train Accuracy')\n",
    "plt.plot(history_lstm.history['val_accuracy'], label='Val Accuracy')\n",
    "plt.title('LSTM Model Accuracy')\n",
    "plt.xlabel('Epoch')\n",
    "plt.ylabel('Accuracy')\n",
    "plt.legend()\n",
    "\n",
    "# Loss plot\n",
    "plt.subplot(1, 2, 2)\n",
    "plt.plot(history_lstm.history['loss'], label='Train Loss')\n",
    "plt.plot(history_lstm.history['val_loss'], label='Val Loss')\n",
    "plt.title('LSTM Model Loss')\n",
    "plt.xlabel('Epoch')\n",
    "plt.ylabel('Loss')\n",
    "plt.legend()\n",
    "\n",
    "plt.show()"
   ]
  },
  {
   "cell_type": "code",
   "execution_count": 16,
   "metadata": {
    "execution": {
     "iopub.execute_input": "2025-06-18T14:00:08.485453Z",
     "iopub.status.busy": "2025-06-18T14:00:08.485001Z",
     "iopub.status.idle": "2025-06-18T14:00:09.139276Z",
     "shell.execute_reply": "2025-06-18T14:00:09.138679Z",
     "shell.execute_reply.started": "2025-06-18T14:00:08.485435Z"
    },
    "trusted": true
   },
   "outputs": [
    {
     "name": "stdout",
     "output_type": "stream",
     "text": [
      "\u001b[1m48/48\u001b[0m \u001b[32m━━━━━━━━━━━━━━━━━━━━\u001b[0m\u001b[37m\u001b[0m \u001b[1m0s\u001b[0m 5ms/step\n"
     ]
    },
    {
     "data": {
      "image/png": "[encoded data removed]",
      "text/plain": [
       "<Figure size 500x400 with 2 Axes>"
      ]
     },
     "metadata": {},
     "output_type": "display_data"
    },
    {
     "name": "stdout",
     "output_type": "stream",
     "text": [
      "LSTM Classification Report:\n",
      "\n",
      "              precision    recall  f1-score   support\n",
      "\n",
      "Not Disaster       0.75      0.94      0.83       869\n",
      "    Disaster       0.88      0.58      0.70       654\n",
      "\n",
      "    accuracy                           0.79      1523\n",
      "   macro avg       0.81      0.76      0.77      1523\n",
      "weighted avg       0.80      0.79      0.78      1523\n",
      "\n"
     ]
    }
   ],
   "source": [
    "from sklearn.metrics import confusion_matrix, classification_report\n",
    "import seaborn as sns\n",
    "import matplotlib.pyplot as plt\n",
    "import numpy as np\n",
    "\n",
    "# Predict with your model\n",
    "y_pred_lstm = (lstm_model.predict(X_val) > 0.5).astype(int)\n",
    "\n",
    "# Confusion matrix\n",
    "cm_lstm = confusion_matrix(y_val, y_pred_lstm)\n",
    "\n",
    "# Plot\n",
    "plt.figure(figsize=(5, 4))\n",
    "sns.heatmap(cm_lstm, annot=True, fmt='d', cmap='Blues', xticklabels=['Not Disaster', 'Disaster'], yticklabels=['Not Disaster', 'Disaster'])\n",
    "plt.xlabel('Predicted')\n",
    "plt.ylabel('Actual')\n",
    "plt.title('Confusion Matrix - LSTM (Baseline)')\n",
    "plt.show()\n",
    "\n",
    "# Classification report\n",
    "print(\"LSTM Classification Report:\\n\")\n",
    "print(classification_report(y_val, y_pred_lstm, target_names=['Not Disaster', 'Disaster']))"
   ]
  },
  {
   "cell_type": "markdown",
   "metadata": {},
   "source": [
    "**GRU Model**\n",
    "\n",
    "Gated Recurrent Units (GRUs) are a streamlined variant of LSTMs that use fewer gates — specifically, the update and reset gates — to control the flow of information. While simpler, GRUs often achieve comparable performance to LSTMs, especially on smaller datasets or shorter sequences. Because they have fewer parameters, GRUs are generally faster to train and less prone to overfitting. In this project, a GRU model is implemented alongside the LSTM to evaluate which architecture better captures the nuances of disaster-related tweets."
   ]
  },
  {
   "cell_type": "markdown",
   "metadata": {},
   "source": [
    "**Build the GRU model**"
   ]
  },
  {
   "cell_type": "code",
   "execution_count": 17,
   "metadata": {
    "execution": {
     "iopub.execute_input": "2025-06-18T14:00:09.140244Z",
     "iopub.status.busy": "2025-06-18T14:00:09.140016Z",
     "iopub.status.idle": "2025-06-18T14:00:09.144815Z",
     "shell.execute_reply": "2025-06-18T14:00:09.144037Z",
     "shell.execute_reply.started": "2025-06-18T14:00:09.140227Z"
    },
    "trusted": true
   },
   "outputs": [],
   "source": [
    "from tensorflow.keras.models import Sequential\n",
    "from tensorflow.keras.layers import Embedding, GRU, Dense\n",
    "\n",
    "def build_gru_model(vocab_size, embedding_dim, input_length):\n",
    "    model = Sequential(name=\"gru_model\")\n",
    "    model.add(Embedding(input_dim=vocab_size, output_dim=embedding_dim, input_shape=(input_length,)))\n",
    "    model.add(GRU(64))\n",
    "    model.add(Dropout(0.5))\n",
    "    model.add(Dense(1, activation='sigmoid'))\n",
    "    return model"
   ]
  },
  {
   "cell_type": "code",
   "execution_count": 18,
   "metadata": {
    "execution": {
     "iopub.execute_input": "2025-06-18T14:00:09.145875Z",
     "iopub.status.busy": "2025-06-18T14:00:09.145575Z",
     "iopub.status.idle": "2025-06-18T14:00:09.213194Z",
     "shell.execute_reply": "2025-06-18T14:00:09.212657Z",
     "shell.execute_reply.started": "2025-06-18T14:00:09.145853Z"
    },
    "trusted": true
   },
   "outputs": [
    {
     "data": {
      "text/html": [
       "<pre style=\"white-space:pre;overflow-x:auto;line-height:normal;font-family:Menlo,'DejaVu Sans Mono',consolas,'Courier New',monospace\"><span style=\"font-weight: bold\">Model: \"gru_model\"</span>\n",
       "</pre>\n"
      ],
      "text/plain": [
       "\u001b[1mModel: \"gru_model\"\u001b[0m\n"
      ]
     },
     "metadata": {},
     "output_type": "display_data"
    },
    {
     "data": {
      "text/html": [
       "<pre style=\"white-space:pre;overflow-x:auto;line-height:normal;font-family:Menlo,'DejaVu Sans Mono',consolas,'Courier New',monospace\">┏━━━━━━━━━━━━━━━━━━━━━━━━━━━━━━━━━━━━━━┳━━━━━━━━━━━━━━━━━━━━━━━━━━━━━┳━━━━━━━━━━━━━━━━━┓\n",
       "┃<span style=\"font-weight: bold\"> Layer (type)                         </span>┃<span style=\"font-weight: bold\"> Output Shape                </span>┃<span style=\"font-weight: bold\">         Param # </span>┃\n",
       "┡━━━━━━━━━━━━━━━━━━━━━━━━━━━━━━━━━━━━━━╇━━━━━━━━━━━━━━━━━━━━━━━━━━━━━╇━━━━━━━━━━━━━━━━━┩\n",
       "│ embedding_1 (<span style=\"color: #0087ff; text-decoration-color: #0087ff\">Embedding</span>)              │ (<span style=\"color: #00d7ff; text-decoration-color: #00d7ff\">None</span>, <span style=\"color: #00af00; text-decoration-color: #00af00\">30</span>, <span style=\"color: #00af00; text-decoration-color: #00af00\">64</span>)              │         <span style=\"color: #00af00; text-decoration-color: #00af00\">640,000</span> │\n",
       "├──────────────────────────────────────┼─────────────────────────────┼─────────────────┤\n",
       "│ gru (<span style=\"color: #0087ff; text-decoration-color: #0087ff\">GRU</span>)                            │ (<span style=\"color: #00d7ff; text-decoration-color: #00d7ff\">None</span>, <span style=\"color: #00af00; text-decoration-color: #00af00\">64</span>)                  │          <span style=\"color: #00af00; text-decoration-color: #00af00\">24,960</span> │\n",
       "├──────────────────────────────────────┼─────────────────────────────┼─────────────────┤\n",
       "│ dropout (<span style=\"color: #0087ff; text-decoration-color: #0087ff\">Dropout</span>)                    │ (<span style=\"color: #00d7ff; text-decoration-color: #00d7ff\">None</span>, <span style=\"color: #00af00; text-decoration-color: #00af00\">64</span>)                  │               <span style=\"color: #00af00; text-decoration-color: #00af00\">0</span> │\n",
       "├──────────────────────────────────────┼─────────────────────────────┼─────────────────┤\n",
       "│ dense_1 (<span style=\"color: #0087ff; text-decoration-color: #0087ff\">Dense</span>)                      │ (<span style=\"color: #00d7ff; text-decoration-color: #00d7ff\">None</span>, <span style=\"color: #00af00; text-decoration-color: #00af00\">1</span>)                   │              <span style=\"color: #00af00; text-decoration-color: #00af00\">65</span> │\n",
       "└──────────────────────────────────────┴─────────────────────────────┴─────────────────┘\n",
       "</pre>\n"
      ],
      "text/plain": [
       "┏━━━━━━━━━━━━━━━━━━━━━━━━━━━━━━━━━━━━━━┳━━━━━━━━━━━━━━━━━━━━━━━━━━━━━┳━━━━━━━━━━━━━━━━━┓\n",
       "┃\u001b[1m \u001b[0m\u001b[1mLayer (type)                        \u001b[0m\u001b[1m \u001b[0m┃\u001b[1m \u001b[0m\u001b[1mOutput Shape               \u001b[0m\u001b[1m \u001b[0m┃\u001b[1m \u001b[0m\u001b[1m        Param #\u001b[0m\u001b[1m \u001b[0m┃\n",
       "┡━━━━━━━━━━━━━━━━━━━━━━━━━━━━━━━━━━━━━━╇━━━━━━━━━━━━━━━━━━━━━━━━━━━━━╇━━━━━━━━━━━━━━━━━┩\n",
       "│ embedding_1 (\u001b[38;5;33mEmbedding\u001b[0m)              │ (\u001b[38;5;45mNone\u001b[0m, \u001b[38;5;34m30\u001b[0m, \u001b[38;5;34m64\u001b[0m)              │         \u001b[38;5;34m640,000\u001b[0m │\n",
       "├──────────────────────────────────────┼─────────────────────────────┼─────────────────┤\n",
       "│ gru (\u001b[38;5;33mGRU\u001b[0m)                            │ (\u001b[38;5;45mNone\u001b[0m, \u001b[38;5;34m64\u001b[0m)                  │          \u001b[38;5;34m24,960\u001b[0m │\n",
       "├──────────────────────────────────────┼─────────────────────────────┼─────────────────┤\n",
       "│ dropout (\u001b[38;5;33mDropout\u001b[0m)                    │ (\u001b[38;5;45mNone\u001b[0m, \u001b[38;5;34m64\u001b[0m)                  │               \u001b[38;5;34m0\u001b[0m │\n",
       "├──────────────────────────────────────┼─────────────────────────────┼─────────────────┤\n",
       "│ dense_1 (\u001b[38;5;33mDense\u001b[0m)                      │ (\u001b[38;5;45mNone\u001b[0m, \u001b[38;5;34m1\u001b[0m)                   │              \u001b[38;5;34m65\u001b[0m │\n",
       "└──────────────────────────────────────┴─────────────────────────────┴─────────────────┘\n"
      ]
     },
     "metadata": {},
     "output_type": "display_data"
    },
    {
     "data": {
      "text/html": [
       "<pre style=\"white-space:pre;overflow-x:auto;line-height:normal;font-family:Menlo,'DejaVu Sans Mono',consolas,'Courier New',monospace\"><span style=\"font-weight: bold\"> Total params: </span><span style=\"color: #00af00; text-decoration-color: #00af00\">665,025</span> (2.54 MB)\n",
       "</pre>\n"
      ],
      "text/plain": [
       "\u001b[1m Total params: \u001b[0m\u001b[38;5;34m665,025\u001b[0m (2.54 MB)\n"
      ]
     },
     "metadata": {},
     "output_type": "display_data"
    },
    {
     "data": {
      "text/html": [
       "<pre style=\"white-space:pre;overflow-x:auto;line-height:normal;font-family:Menlo,'DejaVu Sans Mono',consolas,'Courier New',monospace\"><span style=\"font-weight: bold\"> Trainable params: </span><span style=\"color: #00af00; text-decoration-color: #00af00\">665,025</span> (2.54 MB)\n",
       "</pre>\n"
      ],
      "text/plain": [
       "\u001b[1m Trainable params: \u001b[0m\u001b[38;5;34m665,025\u001b[0m (2.54 MB)\n"
      ]
     },
     "metadata": {},
     "output_type": "display_data"
    },
    {
     "data": {
      "text/html": [
       "<pre style=\"white-space:pre;overflow-x:auto;line-height:normal;font-family:Menlo,'DejaVu Sans Mono',consolas,'Courier New',monospace\"><span style=\"font-weight: bold\"> Non-trainable params: </span><span style=\"color: #00af00; text-decoration-color: #00af00\">0</span> (0.00 B)\n",
       "</pre>\n"
      ],
      "text/plain": [
       "\u001b[1m Non-trainable params: \u001b[0m\u001b[38;5;34m0\u001b[0m (0.00 B)\n"
      ]
     },
     "metadata": {},
     "output_type": "display_data"
    }
   ],
   "source": [
    "gru_model = build_gru_model(vocab_size=MAX_VOCAB_SIZE, embedding_dim=64, input_length=MAX_SEQ_LENGTH)\n",
    "gru_model.summary()"
   ]
  },
  {
   "cell_type": "markdown",
   "metadata": {},
   "source": [
    "**Compile the GRU model**"
   ]
  },
  {
   "cell_type": "code",
   "execution_count": 19,
   "metadata": {
    "execution": {
     "iopub.execute_input": "2025-06-18T14:00:09.214457Z",
     "iopub.status.busy": "2025-06-18T14:00:09.214087Z",
     "iopub.status.idle": "2025-06-18T14:00:09.221183Z",
     "shell.execute_reply": "2025-06-18T14:00:09.220568Z",
     "shell.execute_reply.started": "2025-06-18T14:00:09.214439Z"
    },
    "trusted": true
   },
   "outputs": [],
   "source": [
    "gru_model.compile(\n",
    "    loss='binary_crossentropy',\n",
    "    optimizer='adam',\n",
    "    metrics=['accuracy']\n",
    ")"
   ]
  },
  {
   "cell_type": "code",
   "execution_count": 20,
   "metadata": {
    "execution": {
     "iopub.execute_input": "2025-06-18T14:00:09.221928Z",
     "iopub.status.busy": "2025-06-18T14:00:09.221706Z",
     "iopub.status.idle": "2025-06-18T14:00:09.234701Z",
     "shell.execute_reply": "2025-06-18T14:00:09.234031Z",
     "shell.execute_reply.started": "2025-06-18T14:00:09.221913Z"
    },
    "trusted": true
   },
   "outputs": [],
   "source": [
    "gru_callbacks_list = [\n",
    "    callbacks.EarlyStopping(monitor='val_loss', patience=3, restore_best_weights=True),\n",
    "    callbacks.ReduceLROnPlateau(monitor='val_loss', factor=0.2, patience=3, min_lr=1e-6, verbose=1),\n",
    "    callbacks.ModelCheckpoint(filepath='best_gru_model.keras', monitor='val_accuracy', save_best_only=True, verbose=1)\n",
    "]"
   ]
  },
  {
   "cell_type": "code",
   "execution_count": 21,
   "metadata": {
    "execution": {
     "iopub.execute_input": "2025-06-18T14:00:09.235554Z",
     "iopub.status.busy": "2025-06-18T14:00:09.235368Z",
     "iopub.status.idle": "2025-06-18T14:00:19.676568Z",
     "shell.execute_reply": "2025-06-18T14:00:19.675813Z",
     "shell.execute_reply.started": "2025-06-18T14:00:09.235539Z"
    },
    "trusted": true
   },
   "outputs": [
    {
     "name": "stdout",
     "output_type": "stream",
     "text": [
      "Epoch 1/10\n",
      "\u001b[1m185/191\u001b[0m \u001b[32m━━━━━━━━━━━━━━━━━━━\u001b[0m\u001b[37m━\u001b[0m \u001b[1m0s\u001b[0m 5ms/step - accuracy: 0.5586 - loss: 0.6866\n",
      "Epoch 1: val_accuracy improved from -inf to 0.57058, saving model to best_gru_model.keras\n",
      "\u001b[1m191/191\u001b[0m \u001b[32m━━━━━━━━━━━━━━━━━━━━\u001b[0m\u001b[37m\u001b[0m \u001b[1m4s\u001b[0m 10ms/step - accuracy: 0.5590 - loss: 0.6865 - val_accuracy: 0.5706 - val_loss: 0.6833 - learning_rate: 0.0010\n",
      "Epoch 2/10\n",
      "\u001b[1m186/191\u001b[0m \u001b[32m━━━━━━━━━━━━━━━━━━━\u001b[0m\u001b[37m━\u001b[0m \u001b[1m0s\u001b[0m 5ms/step - accuracy: 0.5685 - loss: 0.6859\n",
      "Epoch 2: val_accuracy did not improve from 0.57058\n",
      "\u001b[1m191/191\u001b[0m \u001b[32m━━━━━━━━━━━━━━━━━━━━\u001b[0m\u001b[37m\u001b[0m \u001b[1m1s\u001b[0m 6ms/step - accuracy: 0.5686 - loss: 0.6858 - val_accuracy: 0.5706 - val_loss: 0.6831 - learning_rate: 0.0010\n",
      "Epoch 3/10\n",
      "\u001b[1m186/191\u001b[0m \u001b[32m━━━━━━━━━━━━━━━━━━━\u001b[0m\u001b[37m━\u001b[0m \u001b[1m0s\u001b[0m 5ms/step - accuracy: 0.5976 - loss: 0.6624\n",
      "Epoch 3: val_accuracy improved from 0.57058 to 0.79908, saving model to best_gru_model.keras\n",
      "\u001b[1m191/191\u001b[0m \u001b[32m━━━━━━━━━━━━━━━━━━━━\u001b[0m\u001b[37m\u001b[0m \u001b[1m1s\u001b[0m 6ms/step - accuracy: 0.5998 - loss: 0.6606 - val_accuracy: 0.7991 - val_loss: 0.4502 - learning_rate: 0.0010\n",
      "Epoch 4/10\n",
      "\u001b[1m187/191\u001b[0m \u001b[32m━━━━━━━━━━━━━━━━━━━\u001b[0m\u001b[37m━\u001b[0m \u001b[1m0s\u001b[0m 5ms/step - accuracy: 0.8514 - loss: 0.3649\n",
      "Epoch 4: val_accuracy did not improve from 0.79908\n",
      "\u001b[1m191/191\u001b[0m \u001b[32m━━━━━━━━━━━━━━━━━━━━\u001b[0m\u001b[37m\u001b[0m \u001b[1m1s\u001b[0m 6ms/step - accuracy: 0.8512 - loss: 0.3651 - val_accuracy: 0.7951 - val_loss: 0.4583 - learning_rate: 0.0010\n",
      "Epoch 5/10\n",
      "\u001b[1m184/191\u001b[0m \u001b[32m━━━━━━━━━━━━━━━━━━━\u001b[0m\u001b[37m━\u001b[0m \u001b[1m0s\u001b[0m 5ms/step - accuracy: 0.9084 - loss: 0.2476\n",
      "Epoch 5: val_accuracy did not improve from 0.79908\n",
      "\u001b[1m191/191\u001b[0m \u001b[32m━━━━━━━━━━━━━━━━━━━━\u001b[0m\u001b[37m\u001b[0m \u001b[1m1s\u001b[0m 6ms/step - accuracy: 0.9083 - loss: 0.2475 - val_accuracy: 0.7925 - val_loss: 0.5273 - learning_rate: 0.0010\n",
      "Epoch 6/10\n",
      "\u001b[1m185/191\u001b[0m \u001b[32m━━━━━━━━━━━━━━━━━━━\u001b[0m\u001b[37m━\u001b[0m \u001b[1m0s\u001b[0m 5ms/step - accuracy: 0.9434 - loss: 0.1667\n",
      "Epoch 6: ReduceLROnPlateau reducing learning rate to 0.00020000000949949026.\n",
      "\n",
      "Epoch 6: val_accuracy did not improve from 0.79908\n",
      "\u001b[1m191/191\u001b[0m \u001b[32m━━━━━━━━━━━━━━━━━━━━\u001b[0m\u001b[37m\u001b[0m \u001b[1m1s\u001b[0m 6ms/step - accuracy: 0.9433 - loss: 0.1667 - val_accuracy: 0.7846 - val_loss: 0.5968 - learning_rate: 0.0010\n"
     ]
    }
   ],
   "source": [
    "history_gru = gru_model.fit(\n",
    "    X_train, y_train,\n",
    "    validation_data=(X_val, y_val),\n",
    "    epochs=10,\n",
    "    batch_size=32,\n",
    "    callbacks=gru_callbacks_list\n",
    ")"
   ]
  },
  {
   "cell_type": "markdown",
   "metadata": {},
   "source": [
    "**Graph the GRU model**"
   ]
  },
  {
   "cell_type": "code",
   "execution_count": 22,
   "metadata": {
    "execution": {
     "iopub.execute_input": "2025-06-18T14:00:19.677926Z",
     "iopub.status.busy": "2025-06-18T14:00:19.677611Z",
     "iopub.status.idle": "2025-06-18T14:00:19.982929Z",
     "shell.execute_reply": "2025-06-18T14:00:19.982182Z",
     "shell.execute_reply.started": "2025-06-18T14:00:19.677905Z"
    },
    "trusted": true
   },
   "outputs": [
    {
     "data": {
      "image/png": "[encoded data removed]",
      "text/plain": [
       "<Figure size 1000x500 with 2 Axes>"
      ]
     },
     "metadata": {},
     "output_type": "display_data"
    }
   ],
   "source": [
    "import matplotlib.pyplot as plt\n",
    "\n",
    "# Accuracy plot\n",
    "plt.figure(figsize=(10, 5))\n",
    "\n",
    "plt.subplot(1, 2, 1)\n",
    "plt.plot(history_gru.history['accuracy'], label='Train Accuracy')\n",
    "plt.plot(history_gru.history['val_accuracy'], label='Val Accuracy')\n",
    "plt.title('GRU Model Accuracy')\n",
    "plt.xlabel('Epoch')\n",
    "plt.ylabel('Accuracy')\n",
    "plt.legend()\n",
    "\n",
    "# Loss plot\n",
    "plt.subplot(1, 2, 2)\n",
    "plt.plot(history_gru.history['loss'], label='Train Loss')\n",
    "plt.plot(history_gru.history['val_loss'], label='Val Loss')\n",
    "plt.title('GRU Model Loss')\n",
    "plt.xlabel('Epoch')\n",
    "plt.ylabel('Loss')\n",
    "plt.legend()\n",
    "\n",
    "plt.show()"
   ]
  },
  {
   "cell_type": "code",
   "execution_count": 23,
   "metadata": {
    "execution": {
     "iopub.execute_input": "2025-06-18T14:00:19.984394Z",
     "iopub.status.busy": "2025-06-18T14:00:19.983773Z",
     "iopub.status.idle": "2025-06-18T14:00:20.554762Z",
     "shell.execute_reply": "2025-06-18T14:00:20.554147Z",
     "shell.execute_reply.started": "2025-06-18T14:00:19.984365Z"
    },
    "trusted": true
   },
   "outputs": [
    {
     "name": "stdout",
     "output_type": "stream",
     "text": [
      "\u001b[1m48/48\u001b[0m \u001b[32m━━━━━━━━━━━━━━━━━━━━\u001b[0m\u001b[37m\u001b[0m \u001b[1m0s\u001b[0m 5ms/step\n"
     ]
    },
    {
     "data": {
      "image/png": "[encoded data removed]",
      "text/plain": [
       "<Figure size 500x400 with 2 Axes>"
      ]
     },
     "metadata": {},
     "output_type": "display_data"
    },
    {
     "name": "stdout",
     "output_type": "stream",
     "text": [
      "GRU Classification Report:\n",
      "\n",
      "              precision    recall  f1-score   support\n",
      "\n",
      "Not Disaster       0.79      0.88      0.83       869\n",
      "    Disaster       0.81      0.70      0.75       654\n",
      "\n",
      "    accuracy                           0.80      1523\n",
      "   macro avg       0.80      0.79      0.79      1523\n",
      "weighted avg       0.80      0.80      0.80      1523\n",
      "\n"
     ]
    }
   ],
   "source": [
    "y_pred_gru = (gru_model.predict(X_val) > 0.5).astype(int)\n",
    "cm_gru = confusion_matrix(y_val, y_pred_gru)\n",
    "\n",
    "plt.figure(figsize=(5, 4))\n",
    "sns.heatmap(cm_gru, annot=True, fmt='d', cmap='Greens', xticklabels=['Not Disaster', 'Disaster'], yticklabels=['Not Disaster', 'Disaster'])\n",
    "plt.xlabel('Predicted')\n",
    "plt.ylabel('Actual')\n",
    "plt.title('Confusion Matrix - GRU (Baseline)')\n",
    "plt.show()\n",
    "\n",
    "print(\"GRU Classification Report:\\n\")\n",
    "print(classification_report(y_val, y_pred_gru, target_names=['Not Disaster', 'Disaster']))"
   ]
  },
  {
   "cell_type": "markdown",
   "metadata": {},
   "source": [
    "**Conclusion**\n",
    "\n",
    "Both models achieved high training accuracy around 96–97% but low validation accuracy around 75%, indicating significant overfitting.\n",
    "\n",
    "**Class Imbalance** \n",
    "\n",
    "If \"Not Disaster\" samples are significantly more than \"Disaster\" in training, model learns to predict the majority.\n",
    "\n",
    "**Overfitting**\n",
    "\n",
    "Your model may be too complex for the data, memorizing instead of learning patterns.\n",
    "\n",
    "**Insufficient Regularization**\n",
    "\n",
    "No dropout layers or regularization in your model.\n",
    "\n",
    "**No Data Augmentation / Enrichment**\n",
    "\n",
    "In text tasks, cleaning + oversampling (or under) might help balance.\n",
    "\n"
   ]
  },
  {
   "cell_type": "markdown",
   "metadata": {},
   "source": [
    "# Version 2: Tuned Models"
   ]
  },
  {
   "cell_type": "markdown",
   "metadata": {},
   "source": [
    "**Add class_weight**\n",
    "\n",
    "As the model naturally becomes biased toward the majority class (0) because it sees it more often during training. Using class_weight is a great and simple step toward better generalization.\n",
    "\n"
   ]
  },
  {
   "cell_type": "code",
   "execution_count": 24,
   "metadata": {
    "execution": {
     "iopub.execute_input": "2025-06-18T14:00:20.555614Z",
     "iopub.status.busy": "2025-06-18T14:00:20.555438Z",
     "iopub.status.idle": "2025-06-18T14:00:20.561678Z",
     "shell.execute_reply": "2025-06-18T14:00:20.560961Z",
     "shell.execute_reply.started": "2025-06-18T14:00:20.555600Z"
    },
    "trusted": true
   },
   "outputs": [],
   "source": [
    "from sklearn.utils.class_weight import compute_class_weight\n",
    "from tensorflow.keras import layers\n",
    "\n",
    "class_weights = compute_class_weight(\n",
    "    class_weight='balanced',\n",
    "    classes=np.unique(y_train),\n",
    "    y=y_train\n",
    ")\n",
    "\n",
    "class_weight_dict = dict(zip(np.unique(y_train), class_weights))"
   ]
  },
  {
   "cell_type": "markdown",
   "metadata": {},
   "source": [
    "**Build the LSTM model V2**"
   ]
  },
  {
   "cell_type": "code",
   "execution_count": 25,
   "metadata": {
    "execution": {
     "iopub.execute_input": "2025-06-18T14:00:20.562797Z",
     "iopub.status.busy": "2025-06-18T14:00:20.562545Z",
     "iopub.status.idle": "2025-06-18T14:00:20.578763Z",
     "shell.execute_reply": "2025-06-18T14:00:20.578193Z",
     "shell.execute_reply.started": "2025-06-18T14:00:20.562781Z"
    },
    "trusted": true
   },
   "outputs": [],
   "source": [
    "def build_lstm_model_v2():\n",
    "    model = tf.keras.Sequential(name=\"lstm_model_v2\")\n",
    "    model.add(layers.Embedding(input_dim=MAX_VOCAB_SIZE, output_dim=64, input_shape=(input_length,)))\n",
    "    model.add(layers.SpatialDropout1D(0.5))  # NEW\n",
    "    model.add(layers.LSTM(64, dropout=0.5, recurrent_dropout=0.5))  # NEW: dropout params\n",
    "    model.add(layers.Dense(1, activation='sigmoid'))\n",
    "    return model"
   ]
  },
  {
   "cell_type": "code",
   "execution_count": 26,
   "metadata": {
    "execution": {
     "iopub.execute_input": "2025-06-18T14:00:20.579837Z",
     "iopub.status.busy": "2025-06-18T14:00:20.579513Z",
     "iopub.status.idle": "2025-06-18T14:00:20.640251Z",
     "shell.execute_reply": "2025-06-18T14:00:20.639706Z",
     "shell.execute_reply.started": "2025-06-18T14:00:20.579820Z"
    },
    "trusted": true
   },
   "outputs": [
    {
     "data": {
      "text/html": [
       "<pre style=\"white-space:pre;overflow-x:auto;line-height:normal;font-family:Menlo,'DejaVu Sans Mono',consolas,'Courier New',monospace\"><span style=\"font-weight: bold\">Model: \"lstm_model_v2\"</span>\n",
       "</pre>\n"
      ],
      "text/plain": [
       "\u001b[1mModel: \"lstm_model_v2\"\u001b[0m\n"
      ]
     },
     "metadata": {},
     "output_type": "display_data"
    },
    {
     "data": {
      "text/html": [
       "<pre style=\"white-space:pre;overflow-x:auto;line-height:normal;font-family:Menlo,'DejaVu Sans Mono',consolas,'Courier New',monospace\">┏━━━━━━━━━━━━━━━━━━━━━━━━━━━━━━━━━━━━━━┳━━━━━━━━━━━━━━━━━━━━━━━━━━━━━┳━━━━━━━━━━━━━━━━━┓\n",
       "┃<span style=\"font-weight: bold\"> Layer (type)                         </span>┃<span style=\"font-weight: bold\"> Output Shape                </span>┃<span style=\"font-weight: bold\">         Param # </span>┃\n",
       "┡━━━━━━━━━━━━━━━━━━━━━━━━━━━━━━━━━━━━━━╇━━━━━━━━━━━━━━━━━━━━━━━━━━━━━╇━━━━━━━━━━━━━━━━━┩\n",
       "│ embedding_2 (<span style=\"color: #0087ff; text-decoration-color: #0087ff\">Embedding</span>)              │ (<span style=\"color: #00d7ff; text-decoration-color: #00d7ff\">None</span>, <span style=\"color: #00af00; text-decoration-color: #00af00\">30</span>, <span style=\"color: #00af00; text-decoration-color: #00af00\">64</span>)              │         <span style=\"color: #00af00; text-decoration-color: #00af00\">640,000</span> │\n",
       "├──────────────────────────────────────┼─────────────────────────────┼─────────────────┤\n",
       "│ spatial_dropout1d (<span style=\"color: #0087ff; text-decoration-color: #0087ff\">SpatialDropout1D</span>) │ (<span style=\"color: #00d7ff; text-decoration-color: #00d7ff\">None</span>, <span style=\"color: #00af00; text-decoration-color: #00af00\">30</span>, <span style=\"color: #00af00; text-decoration-color: #00af00\">64</span>)              │               <span style=\"color: #00af00; text-decoration-color: #00af00\">0</span> │\n",
       "├──────────────────────────────────────┼─────────────────────────────┼─────────────────┤\n",
       "│ lstm_1 (<span style=\"color: #0087ff; text-decoration-color: #0087ff\">LSTM</span>)                        │ (<span style=\"color: #00d7ff; text-decoration-color: #00d7ff\">None</span>, <span style=\"color: #00af00; text-decoration-color: #00af00\">64</span>)                  │          <span style=\"color: #00af00; text-decoration-color: #00af00\">33,024</span> │\n",
       "├──────────────────────────────────────┼─────────────────────────────┼─────────────────┤\n",
       "│ dense_2 (<span style=\"color: #0087ff; text-decoration-color: #0087ff\">Dense</span>)                      │ (<span style=\"color: #00d7ff; text-decoration-color: #00d7ff\">None</span>, <span style=\"color: #00af00; text-decoration-color: #00af00\">1</span>)                   │              <span style=\"color: #00af00; text-decoration-color: #00af00\">65</span> │\n",
       "└──────────────────────────────────────┴─────────────────────────────┴─────────────────┘\n",
       "</pre>\n"
      ],
      "text/plain": [
       "┏━━━━━━━━━━━━━━━━━━━━━━━━━━━━━━━━━━━━━━┳━━━━━━━━━━━━━━━━━━━━━━━━━━━━━┳━━━━━━━━━━━━━━━━━┓\n",
       "┃\u001b[1m \u001b[0m\u001b[1mLayer (type)                        \u001b[0m\u001b[1m \u001b[0m┃\u001b[1m \u001b[0m\u001b[1mOutput Shape               \u001b[0m\u001b[1m \u001b[0m┃\u001b[1m \u001b[0m\u001b[1m        Param #\u001b[0m\u001b[1m \u001b[0m┃\n",
       "┡━━━━━━━━━━━━━━━━━━━━━━━━━━━━━━━━━━━━━━╇━━━━━━━━━━━━━━━━━━━━━━━━━━━━━╇━━━━━━━━━━━━━━━━━┩\n",
       "│ embedding_2 (\u001b[38;5;33mEmbedding\u001b[0m)              │ (\u001b[38;5;45mNone\u001b[0m, \u001b[38;5;34m30\u001b[0m, \u001b[38;5;34m64\u001b[0m)              │         \u001b[38;5;34m640,000\u001b[0m │\n",
       "├──────────────────────────────────────┼─────────────────────────────┼─────────────────┤\n",
       "│ spatial_dropout1d (\u001b[38;5;33mSpatialDropout1D\u001b[0m) │ (\u001b[38;5;45mNone\u001b[0m, \u001b[38;5;34m30\u001b[0m, \u001b[38;5;34m64\u001b[0m)              │               \u001b[38;5;34m0\u001b[0m │\n",
       "├──────────────────────────────────────┼─────────────────────────────┼─────────────────┤\n",
       "│ lstm_1 (\u001b[38;5;33mLSTM\u001b[0m)                        │ (\u001b[38;5;45mNone\u001b[0m, \u001b[38;5;34m64\u001b[0m)                  │          \u001b[38;5;34m33,024\u001b[0m │\n",
       "├──────────────────────────────────────┼─────────────────────────────┼─────────────────┤\n",
       "│ dense_2 (\u001b[38;5;33mDense\u001b[0m)                      │ (\u001b[38;5;45mNone\u001b[0m, \u001b[38;5;34m1\u001b[0m)                   │              \u001b[38;5;34m65\u001b[0m │\n",
       "└──────────────────────────────────────┴─────────────────────────────┴─────────────────┘\n"
      ]
     },
     "metadata": {},
     "output_type": "display_data"
    },
    {
     "data": {
      "text/html": [
       "<pre style=\"white-space:pre;overflow-x:auto;line-height:normal;font-family:Menlo,'DejaVu Sans Mono',consolas,'Courier New',monospace\"><span style=\"font-weight: bold\"> Total params: </span><span style=\"color: #00af00; text-decoration-color: #00af00\">673,089</span> (2.57 MB)\n",
       "</pre>\n"
      ],
      "text/plain": [
       "\u001b[1m Total params: \u001b[0m\u001b[38;5;34m673,089\u001b[0m (2.57 MB)\n"
      ]
     },
     "metadata": {},
     "output_type": "display_data"
    },
    {
     "data": {
      "text/html": [
       "<pre style=\"white-space:pre;overflow-x:auto;line-height:normal;font-family:Menlo,'DejaVu Sans Mono',consolas,'Courier New',monospace\"><span style=\"font-weight: bold\"> Trainable params: </span><span style=\"color: #00af00; text-decoration-color: #00af00\">673,089</span> (2.57 MB)\n",
       "</pre>\n"
      ],
      "text/plain": [
       "\u001b[1m Trainable params: \u001b[0m\u001b[38;5;34m673,089\u001b[0m (2.57 MB)\n"
      ]
     },
     "metadata": {},
     "output_type": "display_data"
    },
    {
     "data": {
      "text/html": [
       "<pre style=\"white-space:pre;overflow-x:auto;line-height:normal;font-family:Menlo,'DejaVu Sans Mono',consolas,'Courier New',monospace\"><span style=\"font-weight: bold\"> Non-trainable params: </span><span style=\"color: #00af00; text-decoration-color: #00af00\">0</span> (0.00 B)\n",
       "</pre>\n"
      ],
      "text/plain": [
       "\u001b[1m Non-trainable params: \u001b[0m\u001b[38;5;34m0\u001b[0m (0.00 B)\n"
      ]
     },
     "metadata": {},
     "output_type": "display_data"
    }
   ],
   "source": [
    "lstm_model_v2 = build_lstm_model_v2()\n",
    "lstm_model_v2.summary()"
   ]
  },
  {
   "cell_type": "markdown",
   "metadata": {},
   "source": [
    "**Compile the LSTM model v2**"
   ]
  },
  {
   "cell_type": "code",
   "execution_count": 27,
   "metadata": {
    "execution": {
     "iopub.execute_input": "2025-06-18T14:00:20.641063Z",
     "iopub.status.busy": "2025-06-18T14:00:20.640880Z",
     "iopub.status.idle": "2025-06-18T14:00:20.648366Z",
     "shell.execute_reply": "2025-06-18T14:00:20.647842Z",
     "shell.execute_reply.started": "2025-06-18T14:00:20.641049Z"
    },
    "trusted": true
   },
   "outputs": [],
   "source": [
    "lstm_model_v2.compile(\n",
    "    loss='binary_crossentropy', \n",
    "    optimizer='adam', \n",
    "    metrics=['accuracy']\n",
    ")"
   ]
  },
  {
   "cell_type": "code",
   "execution_count": 28,
   "metadata": {
    "execution": {
     "iopub.execute_input": "2025-06-18T14:00:20.649225Z",
     "iopub.status.busy": "2025-06-18T14:00:20.649019Z",
     "iopub.status.idle": "2025-06-18T14:00:20.664896Z",
     "shell.execute_reply": "2025-06-18T14:00:20.664269Z",
     "shell.execute_reply.started": "2025-06-18T14:00:20.649204Z"
    },
    "trusted": true
   },
   "outputs": [],
   "source": [
    "lstm_model_v2_callbacks_list = [\n",
    "    callbacks.EarlyStopping(monitor='val_loss', patience=3, restore_best_weights=True),\n",
    "    callbacks.ReduceLROnPlateau(monitor='val_loss', factor=0.2, patience=3, min_lr=1e-6, verbose=1),\n",
    "    callbacks.ModelCheckpoint(filepath='best_lstm_model_v2.keras', monitor='val_accuracy', save_best_only=True, verbose=1)\n",
    "]"
   ]
  },
  {
   "cell_type": "code",
   "execution_count": 29,
   "metadata": {
    "execution": {
     "iopub.execute_input": "2025-06-18T14:00:20.665798Z",
     "iopub.status.busy": "2025-06-18T14:00:20.665550Z",
     "iopub.status.idle": "2025-06-18T14:02:51.447773Z",
     "shell.execute_reply": "2025-06-18T14:02:51.447134Z",
     "shell.execute_reply.started": "2025-06-18T14:00:20.665778Z"
    },
    "trusted": true
   },
   "outputs": [
    {
     "name": "stdout",
     "output_type": "stream",
     "text": [
      "Epoch 1/10\n",
      "\u001b[1m191/191\u001b[0m \u001b[32m━━━━━━━━━━━━━━━━━━━━\u001b[0m\u001b[37m\u001b[0m \u001b[1m0s\u001b[0m 80ms/step - accuracy: 0.4775 - loss: 0.6951\n",
      "Epoch 1: val_accuracy improved from -inf to 0.44846, saving model to best_lstm_model_v2.keras\n",
      "\u001b[1m191/191\u001b[0m \u001b[32m━━━━━━━━━━━━━━━━━━━━\u001b[0m\u001b[37m\u001b[0m \u001b[1m22s\u001b[0m 88ms/step - accuracy: 0.4775 - loss: 0.6951 - val_accuracy: 0.4485 - val_loss: 0.6945 - learning_rate: 0.0010\n",
      "Epoch 2/10\n",
      "\u001b[1m191/191\u001b[0m \u001b[32m━━━━━━━━━━━━━━━━━━━━\u001b[0m\u001b[37m\u001b[0m \u001b[1m0s\u001b[0m 78ms/step - accuracy: 0.5030 - loss: 0.6901\n",
      "Epoch 2: val_accuracy improved from 0.44846 to 0.74196, saving model to best_lstm_model_v2.keras\n",
      "\u001b[1m191/191\u001b[0m \u001b[32m━━━━━━━━━━━━━━━━━━━━\u001b[0m\u001b[37m\u001b[0m \u001b[1m16s\u001b[0m 83ms/step - accuracy: 0.5033 - loss: 0.6900 - val_accuracy: 0.7420 - val_loss: 0.5776 - learning_rate: 0.0010\n",
      "Epoch 3/10\n",
      "\u001b[1m191/191\u001b[0m \u001b[32m━━━━━━━━━━━━━━━━━━━━\u001b[0m\u001b[37m\u001b[0m \u001b[1m0s\u001b[0m 80ms/step - accuracy: 0.7474 - loss: 0.5724\n",
      "Epoch 3: val_accuracy improved from 0.74196 to 0.74984, saving model to best_lstm_model_v2.keras\n",
      "\u001b[1m191/191\u001b[0m \u001b[32m━━━━━━━━━━━━━━━━━━━━\u001b[0m\u001b[37m\u001b[0m \u001b[1m16s\u001b[0m 85ms/step - accuracy: 0.7474 - loss: 0.5724 - val_accuracy: 0.7498 - val_loss: 0.5948 - learning_rate: 0.0010\n",
      "Epoch 4/10\n",
      "\u001b[1m191/191\u001b[0m \u001b[32m━━━━━━━━━━━━━━━━━━━━\u001b[0m\u001b[37m\u001b[0m \u001b[1m0s\u001b[0m 79ms/step - accuracy: 0.7483 - loss: 0.5624\n",
      "Epoch 4: val_accuracy did not improve from 0.74984\n",
      "\u001b[1m191/191\u001b[0m \u001b[32m━━━━━━━━━━━━━━━━━━━━\u001b[0m\u001b[37m\u001b[0m \u001b[1m16s\u001b[0m 84ms/step - accuracy: 0.7483 - loss: 0.5625 - val_accuracy: 0.7472 - val_loss: 0.5476 - learning_rate: 0.0010\n",
      "Epoch 5/10\n",
      "\u001b[1m191/191\u001b[0m \u001b[32m━━━━━━━━━━━━━━━━━━━━\u001b[0m\u001b[37m\u001b[0m \u001b[1m0s\u001b[0m 80ms/step - accuracy: 0.7547 - loss: 0.5450\n",
      "Epoch 5: val_accuracy improved from 0.74984 to 0.75640, saving model to best_lstm_model_v2.keras\n",
      "\u001b[1m191/191\u001b[0m \u001b[32m━━━━━━━━━━━━━━━━━━━━\u001b[0m\u001b[37m\u001b[0m \u001b[1m16s\u001b[0m 84ms/step - accuracy: 0.7547 - loss: 0.5449 - val_accuracy: 0.7564 - val_loss: 0.5605 - learning_rate: 0.0010\n",
      "Epoch 6/10\n",
      "\u001b[1m191/191\u001b[0m \u001b[32m━━━━━━━━━━━━━━━━━━━━\u001b[0m\u001b[37m\u001b[0m \u001b[1m0s\u001b[0m 80ms/step - accuracy: 0.7956 - loss: 0.5072\n",
      "Epoch 6: val_accuracy did not improve from 0.75640\n",
      "\u001b[1m191/191\u001b[0m \u001b[32m━━━━━━━━━━━━━━━━━━━━\u001b[0m\u001b[37m\u001b[0m \u001b[1m16s\u001b[0m 84ms/step - accuracy: 0.7956 - loss: 0.5072 - val_accuracy: 0.7479 - val_loss: 0.5379 - learning_rate: 0.0010\n",
      "Epoch 7/10\n",
      "\u001b[1m191/191\u001b[0m \u001b[32m━━━━━━━━━━━━━━━━━━━━\u001b[0m\u001b[37m\u001b[0m \u001b[1m0s\u001b[0m 81ms/step - accuracy: 0.7754 - loss: 0.5172\n",
      "Epoch 7: val_accuracy did not improve from 0.75640\n",
      "\u001b[1m191/191\u001b[0m \u001b[32m━━━━━━━━━━━━━━━━━━━━\u001b[0m\u001b[37m\u001b[0m \u001b[1m16s\u001b[0m 85ms/step - accuracy: 0.7755 - loss: 0.5172 - val_accuracy: 0.7492 - val_loss: 0.5851 - learning_rate: 0.0010\n",
      "Epoch 8/10\n",
      "\u001b[1m191/191\u001b[0m \u001b[32m━━━━━━━━━━━━━━━━━━━━\u001b[0m\u001b[37m\u001b[0m \u001b[1m0s\u001b[0m 79ms/step - accuracy: 0.8172 - loss: 0.4769\n",
      "Epoch 8: val_accuracy improved from 0.75640 to 0.76100, saving model to best_lstm_model_v2.keras\n",
      "\u001b[1m191/191\u001b[0m \u001b[32m━━━━━━━━━━━━━━━━━━━━\u001b[0m\u001b[37m\u001b[0m \u001b[1m16s\u001b[0m 83ms/step - accuracy: 0.8172 - loss: 0.4769 - val_accuracy: 0.7610 - val_loss: 0.5729 - learning_rate: 0.0010\n",
      "Epoch 9/10\n",
      "\u001b[1m191/191\u001b[0m \u001b[32m━━━━━━━━━━━━━━━━━━━━\u001b[0m\u001b[37m\u001b[0m \u001b[1m0s\u001b[0m 80ms/step - accuracy: 0.8403 - loss: 0.4436\n",
      "Epoch 9: ReduceLROnPlateau reducing learning rate to 0.00020000000949949026.\n",
      "\n",
      "Epoch 9: val_accuracy did not improve from 0.76100\n",
      "\u001b[1m191/191\u001b[0m \u001b[32m━━━━━━━━━━━━━━━━━━━━\u001b[0m\u001b[37m\u001b[0m \u001b[1m16s\u001b[0m 84ms/step - accuracy: 0.8403 - loss: 0.4437 - val_accuracy: 0.7584 - val_loss: 0.5741 - learning_rate: 0.0010\n"
     ]
    }
   ],
   "source": [
    "history_lstm_v2 = lstm_model_v2.fit(\n",
    "    X_train, y_train,\n",
    "    validation_data=(X_val, y_val),\n",
    "    epochs=10,\n",
    "    batch_size=32,\n",
    "    callbacks=lstm_model_v2_callbacks_list,\n",
    "    class_weight=class_weight_dict,\n",
    "    verbose=1\n",
    ")"
   ]
  },
  {
   "cell_type": "code",
   "execution_count": 30,
   "metadata": {
    "execution": {
     "iopub.execute_input": "2025-06-18T14:02:51.449217Z",
     "iopub.status.busy": "2025-06-18T14:02:51.448964Z",
     "iopub.status.idle": "2025-06-18T14:02:51.758703Z",
     "shell.execute_reply": "2025-06-18T14:02:51.758042Z",
     "shell.execute_reply.started": "2025-06-18T14:02:51.449199Z"
    },
    "trusted": true
   },
   "outputs": [
    {
     "data": {
      "image/png": "[encoded data removed]",
      "text/plain": [
       "<Figure size 1000x500 with 2 Axes>"
      ]
     },
     "metadata": {},
     "output_type": "display_data"
    }
   ],
   "source": [
    "# Accuracy plot\n",
    "plt.figure(figsize=(10, 5))\n",
    "\n",
    "plt.subplot(1, 2, 1)\n",
    "plt.plot(history_lstm_v2.history['accuracy'], label='Train Accuracy')\n",
    "plt.plot(history_lstm_v2.history['val_accuracy'], label='Val Accuracy')\n",
    "plt.title('LSTM Model v2 Accuracy')\n",
    "plt.xlabel('Epoch')\n",
    "plt.ylabel('Accuracy')\n",
    "plt.legend()\n",
    "\n",
    "# Loss plot\n",
    "plt.subplot(1, 2, 2)\n",
    "plt.plot(history_lstm_v2.history['loss'], label='Train Loss')\n",
    "plt.plot(history_lstm_v2.history['val_loss'], label='Val Loss')\n",
    "plt.title('LSTM Model v2 Loss')\n",
    "plt.xlabel('Epoch')\n",
    "plt.ylabel('Loss')\n",
    "plt.legend()\n",
    "\n",
    "plt.show()"
   ]
  },
  {
   "cell_type": "markdown",
   "metadata": {},
   "source": [
    "# Part 4 - Results and Analysis"
   ]
  },
  {
   "cell_type": "markdown",
   "metadata": {},
   "source": [
    "To improve upon the baseline models and address overfitting, a second version of the LSTM model was fine-tuned with several targeted modifications. Dropout strategies were employed more aggressively—SpatialDropout1D was added after the embedding layer, and both dropout and recurrent_dropout parameters were increased in the LSTM layer. \n",
    "\n",
    "The embedding size was expanded to better capture word semantics. Additionally, class_weight was incorporated during training to help the model learn from imbalanced class distributions. Callbacks such as early stopping, learning rate reduction on plateau, and model checkpointing were used to optimize training efficiency and prevent overfitting. \n",
    "\n",
    "These changes resulted in more stable validation performance and improved generalization, as observed through validation accuracy and confusion matrix metrics."
   ]
  },
  {
   "cell_type": "code",
   "execution_count": 31,
   "metadata": {
    "execution": {
     "iopub.execute_input": "2025-06-18T14:02:51.759849Z",
     "iopub.status.busy": "2025-06-18T14:02:51.759588Z",
     "iopub.status.idle": "2025-06-18T14:02:51.764180Z",
     "shell.execute_reply": "2025-06-18T14:02:51.763639Z",
     "shell.execute_reply.started": "2025-06-18T14:02:51.759822Z"
    },
    "trusted": true
   },
   "outputs": [],
   "source": [
    "model_configs = [\n",
    "    {\n",
    "        \"name\": \"bidirectional_lstm\",\n",
    "        \"embedding_dim\": 128,\n",
    "        \"lstm_units\": 64,\n",
    "        \"bidirectional\": True,\n",
    "        \"dense_units\": 32,\n",
    "        \"dropout\": 0.5\n",
    "    },\n",
    "    {\n",
    "        \"name\": \"stacked_lstm\",\n",
    "        \"embedding_dim\": 128,\n",
    "        \"lstm_units\": [64, 32],\n",
    "        \"bidirectional\": False,\n",
    "        \"dense_units\": 32,\n",
    "        \"dropout\": 0.5\n",
    "    },\n",
    "    {\n",
    "        \"name\": \"gru_model\",\n",
    "        \"embedding_dim\": 128,\n",
    "        \"gru_units\": 64,\n",
    "        \"bidirectional\": True,\n",
    "        \"dense_units\": 32,\n",
    "        \"dropout\": 0.5\n",
    "    }\n",
    "]"
   ]
  },
  {
   "cell_type": "code",
   "execution_count": 32,
   "metadata": {
    "execution": {
     "iopub.execute_input": "2025-06-18T14:02:51.765585Z",
     "iopub.status.busy": "2025-06-18T14:02:51.764999Z",
     "iopub.status.idle": "2025-06-18T14:02:51.783033Z",
     "shell.execute_reply": "2025-06-18T14:02:51.782492Z",
     "shell.execute_reply.started": "2025-06-18T14:02:51.765560Z"
    },
    "trusted": true
   },
   "outputs": [],
   "source": [
    "def build_and_train_model(config):\n",
    "    model = tf.keras.Sequential(name=config[\"name\"])\n",
    "\n",
    "    # Embedding\n",
    "    model.add(layers.Embedding(input_dim=MAX_VOCAB_SIZE,\n",
    "                                output_dim=config[\"embedding_dim\"],\n",
    "                                input_length=MAX_SEQ_LENGTH))\n",
    "    model.add(layers.SpatialDropout1D(config[\"dropout\"]))\n",
    "\n",
    "    # Recurrent layer(s)\n",
    "    if \"lstm_units\" in config:\n",
    "        if isinstance(config[\"lstm_units\"], list):\n",
    "            for i, units in enumerate(config[\"lstm_units\"]):\n",
    "                return_seq = (i < len(config[\"lstm_units\"]) - 1)\n",
    "                if config[\"bidirectional\"]:\n",
    "                    model.add(layers.Bidirectional(layers.LSTM(units, return_sequences=return_seq, dropout=config[\"dropout\"], recurrent_dropout=config[\"dropout\"])))\n",
    "                else:\n",
    "                    model.add(layers.LSTM(units, return_sequences=return_seq, dropout=config[\"dropout\"], recurrent_dropout=config[\"dropout\"]))\n",
    "        else:\n",
    "            if config[\"bidirectional\"]:\n",
    "                model.add(layers.Bidirectional(layers.LSTM(config[\"lstm_units\"], dropout=config[\"dropout\"], recurrent_dropout=config[\"dropout\"])))\n",
    "            else:\n",
    "                model.add(layers.LSTM(config[\"lstm_units\"], dropout=config[\"dropout\"], recurrent_dropout=config[\"dropout\"]))\n",
    "    elif \"gru_units\" in config:\n",
    "        if config[\"bidirectional\"]:\n",
    "            model.add(layers.Bidirectional(layers.GRU(config[\"gru_units\"], dropout=config[\"dropout\"], recurrent_dropout=config[\"dropout\"])))\n",
    "        else:\n",
    "            model.add(layers.GRU(config[\"gru_units\"], dropout=config[\"dropout\"], recurrent_dropout=config[\"dropout\"]))\n",
    "\n",
    "    # Dense + Output\n",
    "    model.add(layers.Dense(config[\"dense_units\"], activation='relu'))\n",
    "    model.add(layers.Dropout(config[\"dropout\"]))\n",
    "    model.add(layers.Dense(1, activation='sigmoid'))\n",
    "\n",
    "    # Compile\n",
    "    model.compile(loss='binary_crossentropy',\n",
    "                  optimizer=tf.keras.optimizers.Adam(learning_rate=0.0005),\n",
    "                  metrics=['accuracy'])\n",
    "\n",
    "    # Callbacks\n",
    "    callbacks_list = [\n",
    "        callbacks.EarlyStopping(monitor='val_loss', patience=3, restore_best_weights=True),\n",
    "        callbacks.ReduceLROnPlateau(monitor='val_loss', factor=0.2, patience=2, min_lr=1e-6, verbose=1),\n",
    "        callbacks.ModelCheckpoint(filepath=f'best_{config[\"name\"]}.keras', monitor='val_accuracy', save_best_only=True, verbose=0)\n",
    "    ]\n",
    "\n",
    "    # Train\n",
    "    history = model.fit(\n",
    "        X_train, y_train,\n",
    "        validation_data=(X_val, y_val),\n",
    "        epochs=10,\n",
    "        batch_size=32,\n",
    "        class_weight=class_weight_dict,\n",
    "        callbacks=callbacks_list,\n",
    "        verbose=0\n",
    "    )\n",
    "\n",
    "    return model, history\n"
   ]
  },
  {
   "cell_type": "code",
   "execution_count": 33,
   "metadata": {
    "execution": {
     "iopub.execute_input": "2025-06-18T14:02:51.783985Z",
     "iopub.status.busy": "2025-06-18T14:02:51.783758Z",
     "iopub.status.idle": "2025-06-18T14:13:41.439100Z",
     "shell.execute_reply": "2025-06-18T14:13:41.438273Z",
     "shell.execute_reply.started": "2025-06-18T14:02:51.783962Z"
    },
    "trusted": true
   },
   "outputs": [
    {
     "name": "stdout",
     "output_type": "stream",
     "text": [
      "Training: bidirectional_lstm\n",
      "\n",
      "Epoch 6: ReduceLROnPlateau reducing learning rate to 0.00010000000474974513.\n",
      "\u001b[1m48/48\u001b[0m \u001b[32m━━━━━━━━━━━━━━━━━━━━\u001b[0m\u001b[37m\u001b[0m \u001b[1m3s\u001b[0m 43ms/step\n",
      "Accuracy: 0.7951, F1-score: 0.7524\n",
      "Training: stacked_lstm\n",
      "\u001b[1m48/48\u001b[0m \u001b[32m━━━━━━━━━━━━━━━━━━━━\u001b[0m\u001b[37m\u001b[0m \u001b[1m3s\u001b[0m 43ms/step\n",
      "Accuracy: 0.7820, F1-score: 0.7327\n",
      "Training: gru_model\n",
      "\n",
      "Epoch 7: ReduceLROnPlateau reducing learning rate to 0.00010000000474974513.\n",
      "\u001b[1m48/48\u001b[0m \u001b[32m━━━━━━━━━━━━━━━━━━━━\u001b[0m\u001b[37m\u001b[0m \u001b[1m3s\u001b[0m 45ms/step\n",
      "Accuracy: 0.7919, F1-score: 0.7458\n"
     ]
    }
   ],
   "source": [
    "from sklearn.metrics import accuracy_score, f1_score\n",
    "\n",
    "results = []\n",
    "\n",
    "for config in model_configs:\n",
    "    print(f\"Training: {config['name']}\")\n",
    "    model, history = build_and_train_model(config)\n",
    "\n",
    "    # Evaluate\n",
    "    val_pred = (model.predict(X_val) > 0.5).astype(int)\n",
    "    acc = accuracy_score(y_val, val_pred)\n",
    "    f1 = f1_score(y_val, val_pred)\n",
    "    print(f\"Accuracy: {acc:.4f}, F1-score: {f1:.4f}\")\n",
    "\n",
    "    results.append({\n",
    "        \"name\": config[\"name\"],\n",
    "        \"model\": model,\n",
    "        \"accuracy\": acc,\n",
    "        \"f1\": f1\n",
    "    })"
   ]
  },
  {
   "cell_type": "code",
   "execution_count": 38,
   "metadata": {
    "execution": {
     "iopub.execute_input": "2025-06-18T14:23:07.870582Z",
     "iopub.status.busy": "2025-06-18T14:23:07.870238Z",
     "iopub.status.idle": "2025-06-18T14:23:07.878003Z",
     "shell.execute_reply": "2025-06-18T14:23:07.877144Z",
     "shell.execute_reply.started": "2025-06-18T14:23:07.870561Z"
    },
    "trusted": true
   },
   "outputs": [
    {
     "name": "stdout",
     "output_type": "stream",
     "text": [
      "                 name                                             model  \\\n",
      "0  bidirectional_lstm  <Sequential name=bidirectional_lstm, built=True>   \n",
      "1        stacked_lstm        <Sequential name=stacked_lstm, built=True>   \n",
      "2           gru_model           <Sequential name=gru_model, built=True>   \n",
      "\n",
      "   accuracy        f1  \n",
      "0  0.795141  0.752381  \n",
      "1  0.782009  0.732689  \n",
      "2  0.791858  0.745790  \n"
     ]
    }
   ],
   "source": [
    "# Create DataFrame\n",
    "results_df = pd.DataFrame(results)\n",
    "\n",
    "# Display results\n",
    "print(results_df)"
   ]
  },
  {
   "cell_type": "code",
   "execution_count": 34,
   "metadata": {
    "execution": {
     "iopub.execute_input": "2025-06-18T14:13:41.440582Z",
     "iopub.status.busy": "2025-06-18T14:13:41.440043Z",
     "iopub.status.idle": "2025-06-18T14:13:41.476882Z",
     "shell.execute_reply": "2025-06-18T14:13:41.476266Z",
     "shell.execute_reply.started": "2025-06-18T14:13:41.440554Z"
    },
    "trusted": true
   },
   "outputs": [],
   "source": [
    "test_df = pd.read_csv('/kaggle/input/nlp-getting-started/test.csv')  # adjust path if needed\n"
   ]
  },
  {
   "cell_type": "code",
   "execution_count": 35,
   "metadata": {
    "execution": {
     "iopub.execute_input": "2025-06-18T14:13:41.477750Z",
     "iopub.status.busy": "2025-06-18T14:13:41.477565Z",
     "iopub.status.idle": "2025-06-18T14:13:41.517466Z",
     "shell.execute_reply": "2025-06-18T14:13:41.516634Z",
     "shell.execute_reply.started": "2025-06-18T14:13:41.477735Z"
    },
    "trusted": true
   },
   "outputs": [],
   "source": [
    "test_df['clean_text'] = test_df['text'].apply(clean)  # same function used earlier\n"
   ]
  },
  {
   "cell_type": "code",
   "execution_count": 36,
   "metadata": {
    "execution": {
     "iopub.execute_input": "2025-06-18T14:13:41.518657Z",
     "iopub.status.busy": "2025-06-18T14:13:41.518359Z",
     "iopub.status.idle": "2025-06-18T14:13:41.572804Z",
     "shell.execute_reply": "2025-06-18T14:13:41.572266Z",
     "shell.execute_reply.started": "2025-06-18T14:13:41.518629Z"
    },
    "trusted": true
   },
   "outputs": [],
   "source": [
    "test_sequences = tokenizer.texts_to_sequences(test_df['clean_text'])\n",
    "X_test = pad_sequences(test_sequences, maxlen=MAX_SEQ_LENGTH, padding='post', truncating='post')\n"
   ]
  },
  {
   "cell_type": "code",
   "execution_count": 37,
   "metadata": {
    "execution": {
     "iopub.execute_input": "2025-06-18T14:13:41.573592Z",
     "iopub.status.busy": "2025-06-18T14:13:41.573421Z",
     "iopub.status.idle": "2025-06-18T14:13:44.028931Z",
     "shell.execute_reply": "2025-06-18T14:13:44.028268Z",
     "shell.execute_reply.started": "2025-06-18T14:13:41.573578Z"
    },
    "trusted": true
   },
   "outputs": [
    {
     "name": "stdout",
     "output_type": "stream",
     "text": [
      "Best model: bidirectional_lstm\n",
      "\u001b[1m102/102\u001b[0m \u001b[32m━━━━━━━━━━━━━━━━━━━━\u001b[0m\u001b[37m\u001b[0m \u001b[1m2s\u001b[0m 23ms/step\n",
      "Submission saved as submission.csv\n"
     ]
    }
   ],
   "source": [
    "# Sort by F1 score or accuracy\n",
    "best_model_info = sorted(results, key=lambda x: x['f1'], reverse=True)[0]\n",
    "best_model = best_model_info['model']\n",
    "print(f\"Best model: {best_model_info['name']}\")\n",
    "\n",
    "# Predict on test set (you should have X_test preprocessed like X_val)\n",
    "test_pred = (best_model.predict(X_test) > 0.5).astype(int)\n",
    "\n",
    "# Format submission\n",
    "submission = pd.DataFrame({\n",
    "    \"id\": test_df[\"id\"],\n",
    "    \"target\": test_pred.flatten()\n",
    "})\n",
    "\n",
    "submission.to_csv(\"submission.csv\", index=False)\n",
    "print(\"Submission saved as submission.csv\")"
   ]
  },
  {
   "cell_type": "markdown",
   "metadata": {},
   "source": [
    "# Conclusion"
   ]
  },
  {
   "cell_type": "markdown",
   "metadata": {},
   "source": [
    "This project focused on building and evaluating LSTM and GRU-based models for classifying tweets as related or unrelated to disasters. Both models initially achieved high training accuracy (~96–97%), but validation accuracy remained around 75%, suggesting significant overfitting. This discrepancy highlighted the need for techniques that enhance generalization.\n",
    "\n",
    "Several improvements were introduced to mitigate overfitting. Dropout and recurrent dropout were applied within the recurrent layers, while a SpatialDropout1D layer was added after the embedding layer to reduce over-reliance on specific features. Class weights were also used to counteract the class imbalance present in the dataset. Callback functions, such as early stopping and learning rate reduction, were included to prevent overtraining and adapt learning rates based on validation performance. These strategies collectively stabilized the training process and reduced the performance gap between training and validation sets.\n",
    "\n",
    "The results emphasized the importance of addressing data imbalance and model regularization when dealing with real-world NLP tasks. Future improvements could involve experimenting with bidirectional RNNs, attention mechanisms, or leveraging pre-trained language models like BERT to capture deeper contextual understanding. Overall, the exercise provided valuable insights into the practical challenges and solutions involved in training sequence models on noisy, short-text data."
   ]
  },
  {
   "cell_type": "markdown",
   "metadata": {},
   "source": [
    "https://github.com/bopo80776288/RNN-NLP-Disaster-Tweets.git"
   ]
  }
 ],
 "metadata": {
  "kaggle": {
   "accelerator": "gpu",
   "dataSources": [
    {
     "databundleVersionId": 869809,
     "sourceId": 17777,
     "sourceType": "competition"
    }
   ],
   "dockerImageVersionId": 31040,
   "isGpuEnabled": true,
   "isInternetEnabled": true,
   "language": "python",
   "sourceType": "notebook"
  },
  "kernelspec": {
   "display_name": "Python 3",
   "language": "python",
   "name": "python3"
  },
  "language_info": {
   "codemirror_mode": {
    "name": "ipython",
    "version": 3
   },
   "file_extension": ".py",
   "mimetype": "text/x-python",
   "name": "python",
   "nbconvert_exporter": "python",
   "pygments_lexer": "ipython3",
   "version": "3.11.11"
  }
 },
 "nbformat": 4,
 "nbformat_minor": 4
}
